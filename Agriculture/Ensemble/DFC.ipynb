{
 "cells": [
  {
   "cell_type": "code",
   "execution_count": 1,
   "metadata": {},
   "outputs": [
    {
     "name": "stdout",
     "output_type": "stream",
     "text": [
      "     0   1   2   3   4   5   6   7   8   9   10  11  12  13\n",
      "0     1   3   1  79   7   0   0   0   0   0   0   0   0   0\n",
      "1     3   2   1  84   6   0   0   0   0   0   0   0   0   0\n",
      "2     3   1   1  87   7   0   0   0   0   0   0   0   0   0\n",
      "3     3   2   2  65   7   0   0   0   0   0   0   0   0   0\n",
      "4     3   1   1  63   7   0   0   0   0   0   0   0   0   0\n",
      "..   ..  ..  ..  ..  ..  ..  ..  ..  ..  ..  ..  ..  ..  ..\n",
      "966   1   3   1  63   1   0   0   0   0   0   0   0   0   0\n",
      "967   1   2   1  64   7   0   0   0   0   0   0   0   0   0\n",
      "968   1   2   1  85   6   0   0   0   0   0   0   0   0   0\n",
      "969   3   3   1  77   7   0   0   1   0   0   0   0   0   0\n",
      "970   1   2   1  64   7   0   0   0   0   0   0   0   0   0\n",
      "\n",
      "[971 rows x 14 columns]\n",
      "     0\n",
      "0    1\n",
      "1    1\n",
      "2    1\n",
      "3    0\n",
      "4    1\n",
      "..  ..\n",
      "966  1\n",
      "967  1\n",
      "968  1\n",
      "969  1\n",
      "970  1\n",
      "\n",
      "[971 rows x 1 columns]\n",
      "(776, 14)\n",
      "(776, 1)\n"
     ]
    }
   ],
   "source": [
    "import numpy as np\n",
    "import matplotlib\n",
    "import pandas as pd\n",
    "from sklearn.model_selection import train_test_split\n",
    "\n",
    "\n",
    "dataset = pd.read_csv('/Users/wzhang/Documents/AgInjuryNews - cleaned.csv')\n",
    "\n",
    "X = pd.DataFrame(dataset.iloc[:,0:14].values)\n",
    "Y = pd.DataFrame(dataset.iloc[:,14:].values)\n",
    "print(X)\n",
    "print(Y)\n",
    "X_train, X_test, Y_train, Y_test = train_test_split(X, Y, test_size=0.2)\n",
    "from sklearn.preprocessing import MinMaxScaler\n",
    "scaler = MinMaxScaler()\n",
    "X_train = scaler.fit_transform(X_train)\n",
    "X_test = scaler.transform(X_test)\n",
    "\n",
    "print(X_train.shape)\n",
    "print(Y_train.shape)"
   ]
  },
  {
   "cell_type": "code",
   "execution_count": 2,
   "metadata": {},
   "outputs": [
    {
     "name": "stdout",
     "output_type": "stream",
     "text": [
      "Index(['Sex', 'Age', 'Injury_Agent', 'Confined Space', 'Grain Involved',\n",
      "       'Drowning/Suffocation', 'Alcohol/Drugs', 'Seatbelt', 'Helmet', 'ROPS',\n",
      "       'Agritourism', 'Other PPE', 'Fatal'],\n",
      "      dtype='object')\n"
     ]
    }
   ],
   "source": [
    "features = pd.DataFrame(dataset.iloc[:,2:19])\n",
    "features = features.columns\n",
    "print(features)"
   ]
  },
  {
   "cell_type": "code",
   "execution_count": 3,
   "metadata": {},
   "outputs": [
    {
     "name": "stderr",
     "output_type": "stream",
     "text": [
      "2024-07-15 10:14:33.182607: I tensorflow/core/platform/cpu_feature_guard.cc:210] This TensorFlow binary is optimized to use available CPU instructions in performance-critical operations.\n",
      "To enable the following instructions: AVX2 FMA, in other operations, rebuild TensorFlow with the appropriate compiler flags.\n"
     ]
    }
   ],
   "source": [
    "from keras.models import Sequential, Model\n",
    "from tensorflow.keras.layers import LSTM, Dropout, Dense, BatchNormalization, GRU, LayerNormalization, MultiHeadAttention,TimeDistributed, Input, Flatten\n",
    "from sklearn.ensemble import RandomForestRegressor\n",
    "from deepforest import CascadeForestClassifier "
   ]
  },
  {
   "cell_type": "code",
   "execution_count": 4,
   "metadata": {},
   "outputs": [
    {
     "name": "stderr",
     "output_type": "stream",
     "text": [
      "/Library/Frameworks/Python.framework/Versions/3.9/lib/python3.9/site-packages/sklearn/utils/validation.py:1300: DataConversionWarning: A column-vector y was passed when a 1d array was expected. Please change the shape of y to (n_samples, ), for example using ravel().\n",
      "  y = column_or_1d(y, warn=True)\n"
     ]
    },
    {
     "name": "stdout",
     "output_type": "stream",
     "text": [
      "[2024-07-15 15:14:38.820] Start to fit the model:\n",
      "[2024-07-15 15:14:38.820] Fitting cascade layer = 0 \n",
      "[2024-07-15 15:14:44.317] layer = 0  | Val Acc = 72.165 % | Elapsed = 5.497 s\n",
      "[2024-07-15 15:14:44.371] Fitting cascade layer = 1 \n",
      "[2024-07-15 15:14:51.621] layer = 1  | Val Acc = 77.964 % | Elapsed = 7.250 s\n",
      "[2024-07-15 15:14:51.708] Fitting cascade layer = 2 \n",
      "[2024-07-15 15:14:58.635] layer = 2  | Val Acc = 81.314 % | Elapsed = 6.927 s\n",
      "[2024-07-15 15:14:58.718] Fitting cascade layer = 3 \n",
      "[2024-07-15 15:15:06.431] layer = 3  | Val Acc = 81.830 % | Elapsed = 7.713 s\n",
      "[2024-07-15 15:15:06.497] Fitting cascade layer = 4 \n",
      "[2024-07-15 15:15:13.414] layer = 4  | Val Acc = 81.830 % | Elapsed = 6.917 s\n",
      "[2024-07-15 15:15:13.414] Early stopping counter: 1 out of 2\n",
      "[2024-07-15 15:15:13.467] Fitting cascade layer = 5 \n",
      "[2024-07-15 15:15:20.017] layer = 5  | Val Acc = 81.314 % | Elapsed = 6.550 s\n",
      "[2024-07-15 15:15:20.017] Early stopping counter: 2 out of 2\n",
      "[2024-07-15 15:15:20.017] Handling early stopping\n",
      "[2024-07-15 15:15:20.022] The optimal number of layers: 4\n"
     ]
    }
   ],
   "source": [
    "model = CascadeForestClassifier(n_estimators=10)\n",
    "model.fit(X_train, Y_train)"
   ]
  },
  {
   "cell_type": "code",
   "execution_count": 5,
   "metadata": {},
   "outputs": [
    {
     "name": "stdout",
     "output_type": "stream",
     "text": [
      "[2024-07-15 15:15:20.039] Start to evalute the model:\n",
      "[2024-07-15 15:15:20.039] Evaluating cascade layer = 0 \n",
      "[2024-07-15 15:15:20.168] Evaluating cascade layer = 1 \n",
      "[2024-07-15 15:15:20.273] Evaluating cascade layer = 2 \n",
      "[2024-07-15 15:15:20.369] Evaluating cascade layer = 3 \n",
      "[1 1 1 1 1 1 0 1 1 1 1 1 1 1 1 1 1 1 1 1 1 1 1 1 1 0 1 1 1 1 1 1 1 1 0 1 1\n",
      " 1 0 0 1 1 1 1 1 0 1 0 1 1 1 1 1 1 1 0 1 1 1 1 1 1 0 1 1 1 1 1 1 1 1 0 1 1\n",
      " 1 1 1 0 0 1 1 1 1 1 1 1 1 1 1 1 1 1 1 1 1 1 1 1 1 0 1 1 1 1 1 1 1 1 1 0 1\n",
      " 1 1 1 1 1 1 0 1 1 1 1 1 1 1 1 1 1 1 1 1 1 1 1 1 1 1 1 1 1 0 1 1 0 1 1 0 1\n",
      " 1 1 1 1 1 1 1 1 1 1 0 1 1 1 1 1 1 1 1 1 1 1 1 0 1 1 1 1 1 1 1 1 1 1 1 1 1\n",
      " 1 1 1 1 1 1 1 1 1 1]\n",
      "     0\n",
      "940  1\n",
      "357  1\n",
      "921  1\n",
      "115  1\n",
      "819  1\n",
      "..  ..\n",
      "646  1\n",
      "848  1\n",
      "51   1\n",
      "238  0\n",
      "299  1\n",
      "\n",
      "[195 rows x 1 columns]\n",
      "0.7435897435897436\n",
      "              precision    recall  f1-score   support\n",
      "\n",
      "           0   0.350000  0.159091  0.218750        44\n",
      "           1   0.788571  0.913907  0.846626       151\n",
      "\n",
      "    accuracy                       0.743590       195\n",
      "   macro avg   0.569286  0.536499  0.532688       195\n",
      "weighted avg   0.689612  0.743590  0.704951       195\n",
      "\n"
     ]
    }
   ],
   "source": [
    "res = model.predict(X_test)\n",
    "print(res)\n",
    "print(Y_test)\n",
    "from sklearn.metrics import accuracy_score\n",
    "accuracy = accuracy_score(Y_test,res)\n",
    "print(accuracy)\n",
    "from sklearn.metrics import classification_report\n",
    "print(classification_report(Y_test,res,digits=6))"
   ]
  }
 ],
 "metadata": {
  "kernelspec": {
   "display_name": "Python 3",
   "language": "python",
   "name": "python3"
  },
  "language_info": {
   "codemirror_mode": {
    "name": "ipython",
    "version": 3
   },
   "file_extension": ".py",
   "mimetype": "text/x-python",
   "name": "python",
   "nbconvert_exporter": "python",
   "pygments_lexer": "ipython3",
   "version": "3.9.13"
  }
 },
 "nbformat": 4,
 "nbformat_minor": 2
}
