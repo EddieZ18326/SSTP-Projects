{
 "cells": [
  {
   "cell_type": "code",
   "execution_count": 1,
   "metadata": {},
   "outputs": [
    {
     "name": "stdout",
     "output_type": "stream",
     "text": [
      "      0   1   2   3   4   5    6   7   8   9   10  11  12  13  14  15  16  17\n",
      "0      1   1   5   1  16   0  106   1   2  13   3  20   0   0   0   0   2   5\n",
      "1      1  10  12  10  15   2  104   2   2  13   3   8   0   1   0   0   1   5\n",
      "2      2   1   9  24  21   6  103   2   2  13   3   8   0   0   0   0   1   3\n",
      "3      1   1  12   9   8   2  102   1   1  11   3   8   0   0   0   0   2   3\n",
      "4      2   1   6   3  13   1  101   1   2  13   3   8   0   0   0   0   2   4\n",
      "...   ..  ..  ..  ..  ..  ..  ...  ..  ..  ..  ..  ..  ..  ..  ..  ..  ..  ..\n",
      "9919   1   1   5  30  17   0   60   1   1  11   3  20   0   0   0   0   2   2\n",
      "9920   1   1  10  29  18   6   60   1   1  11   3   3   0   0   0   0   2   3\n",
      "9921   4   1   6   6  16   6   60   2   1  11   3   8   0   0   0   0   1   4\n",
      "9922   1   1  11  15  13   6   60   1   1  11   3   8   0   1   0   0   1   5\n",
      "9923   1   1  12  29  21   6   60   1   1  11  20   8   0   1   1   0   1   6\n",
      "\n",
      "[9924 rows x 18 columns]\n",
      "      0\n",
      "0     4\n",
      "1     4\n",
      "2     4\n",
      "3     4\n",
      "4     2\n",
      "...  ..\n",
      "9919  0\n",
      "9920  3\n",
      "9921  2\n",
      "9922  3\n",
      "9923  3\n",
      "\n",
      "[9924 rows x 1 columns]\n",
      "(7939, 18)\n",
      "(7939, 1)\n"
     ]
    }
   ],
   "source": [
    "import numpy as np\n",
    "import matplotlib\n",
    "import pandas as pd\n",
    "from sklearn.model_selection import train_test_split\n",
    "\n",
    "\n",
    "dataset = pd.read_csv('/Users/wzhang/Documents/injury data cleaned.csv')\n",
    "\n",
    "X = pd.DataFrame(dataset.iloc[:,1:19].values)\n",
    "Y = pd.DataFrame(dataset.iloc[:,19:].values)\n",
    "print(X)\n",
    "print(Y)\n",
    "X_train, X_test, Y_train, Y_test = train_test_split(X, Y, test_size=0.2)\n",
    "from sklearn.preprocessing import MinMaxScaler\n",
    "scaler = MinMaxScaler()\n",
    "X_train = scaler.fit_transform(X_train)\n",
    "X_test = scaler.transform(X_test)\n",
    "\n",
    "print(X_train.shape)\n",
    "print(Y_train.shape)"
   ]
  },
  {
   "cell_type": "code",
   "execution_count": 2,
   "metadata": {},
   "outputs": [
    {
     "name": "stdout",
     "output_type": "stream",
     "text": [
      "Index(['LGT_COND', 'WEATHER', 'MONTH', 'DAY', 'HOUR', 'MAN_COLL', 'AGE', 'SEX',\n",
      "       'PER_TYP', 'SEAT_POS', 'REST_USE', 'AIR_BAG', 'EJECTION', 'EXTRICAT',\n",
      "       'DRINKING', 'DRUGS', 'RUR_URB', 'FUNC_SYS'],\n",
      "      dtype='object')\n"
     ]
    }
   ],
   "source": [
    "features = pd.DataFrame(dataset.iloc[:,1:19])\n",
    "features = features.columns\n",
    "print(features)"
   ]
  },
  {
   "cell_type": "code",
   "execution_count": 3,
   "metadata": {},
   "outputs": [
    {
     "name": "stderr",
     "output_type": "stream",
     "text": [
      "2024-07-12 13:03:10.081815: I tensorflow/core/platform/cpu_feature_guard.cc:210] This TensorFlow binary is optimized to use available CPU instructions in performance-critical operations.\n",
      "To enable the following instructions: AVX2 FMA, in other operations, rebuild TensorFlow with the appropriate compiler flags.\n"
     ]
    }
   ],
   "source": [
    "from keras.models import Sequential, Model\n",
    "from tensorflow.keras.layers import LSTM, Dropout, Dense, BatchNormalization, GRU, LayerNormalization, MultiHeadAttention,TimeDistributed, Input, Flatten\n",
    "from sklearn.ensemble import RandomForestRegressor\n",
    "from deepforest import CascadeForestClassifier "
   ]
  },
  {
   "cell_type": "code",
   "execution_count": 4,
   "metadata": {},
   "outputs": [
    {
     "name": "stderr",
     "output_type": "stream",
     "text": [
      "/Library/Frameworks/Python.framework/Versions/3.9/lib/python3.9/site-packages/sklearn/utils/validation.py:1300: DataConversionWarning: A column-vector y was passed when a 1d array was expected. Please change the shape of y to (n_samples, ), for example using ravel().\n",
      "  y = column_or_1d(y, warn=True)\n"
     ]
    },
    {
     "name": "stdout",
     "output_type": "stream",
     "text": [
      "[2024-07-12 18:03:12.736] Start to fit the model:\n",
      "[2024-07-12 18:03:12.737] Fitting cascade layer = 0 \n",
      "[2024-07-12 18:03:25.862] layer = 0  | Val Acc = 75.601 % | Elapsed = 13.126 s\n",
      "[2024-07-12 18:03:25.994] Fitting cascade layer = 1 \n",
      "[2024-07-12 18:04:05.536] layer = 1  | Val Acc = 75.916 % | Elapsed = 39.543 s\n",
      "[2024-07-12 18:04:05.666] Fitting cascade layer = 2 \n",
      "[2024-07-12 18:04:45.675] layer = 2  | Val Acc = 75.954 % | Elapsed = 40.009 s\n",
      "[2024-07-12 18:04:45.839] Fitting cascade layer = 3 \n",
      "[2024-07-12 18:05:31.879] layer = 3  | Val Acc = 75.753 % | Elapsed = 46.040 s\n",
      "[2024-07-12 18:05:31.879] Early stopping counter: 1 out of 2\n",
      "[2024-07-12 18:05:32.005] Fitting cascade layer = 4 \n",
      "[2024-07-12 18:06:12.772] layer = 4  | Val Acc = 75.816 % | Elapsed = 40.768 s\n",
      "[2024-07-12 18:06:12.773] Early stopping counter: 2 out of 2\n",
      "[2024-07-12 18:06:12.773] Handling early stopping\n",
      "[2024-07-12 18:06:12.784] The optimal number of layers: 3\n"
     ]
    }
   ],
   "source": [
    "model = CascadeForestClassifier(n_estimators=10)\n",
    "model.fit(X_train, Y_train)"
   ]
  },
  {
   "cell_type": "code",
   "execution_count": 5,
   "metadata": {},
   "outputs": [
    {
     "name": "stdout",
     "output_type": "stream",
     "text": [
      "[2024-07-12 18:06:12.861] Start to evalute the model:\n",
      "[2024-07-12 18:06:12.866] Evaluating cascade layer = 0 \n",
      "[2024-07-12 18:06:13.520] Evaluating cascade layer = 1 \n",
      "[2024-07-12 18:06:14.222] Evaluating cascade layer = 2 \n",
      "[4 4 4 ... 4 4 4]\n",
      "      0\n",
      "6255  4\n",
      "1935  4\n",
      "5848  4\n",
      "3557  3\n",
      "5220  4\n",
      "...  ..\n",
      "7875  4\n",
      "9523  0\n",
      "3754  2\n",
      "9156  4\n",
      "9677  4\n",
      "\n",
      "[1985 rows x 1 columns]\n",
      "0.7732997481108312\n",
      "              precision    recall  f1-score   support\n",
      "\n",
      "           0   0.675174  0.782258  0.724782       372\n",
      "           1   0.000000  0.000000  0.000000        85\n",
      "           2   0.000000  0.000000  0.000000       113\n",
      "           3   0.000000  0.000000  0.000000       100\n",
      "           4   0.801546  0.946008  0.867806      1315\n",
      "\n",
      "    accuracy                       0.773300      1985\n",
      "   macro avg   0.295344  0.345653  0.318518      1985\n",
      "weighted avg   0.657531  0.773300  0.710722      1985\n",
      "\n"
     ]
    },
    {
     "name": "stderr",
     "output_type": "stream",
     "text": [
      "/Library/Frameworks/Python.framework/Versions/3.9/lib/python3.9/site-packages/sklearn/metrics/_classification.py:1509: UndefinedMetricWarning: Precision is ill-defined and being set to 0.0 in labels with no predicted samples. Use `zero_division` parameter to control this behavior.\n",
      "  _warn_prf(average, modifier, f\"{metric.capitalize()} is\", len(result))\n",
      "/Library/Frameworks/Python.framework/Versions/3.9/lib/python3.9/site-packages/sklearn/metrics/_classification.py:1509: UndefinedMetricWarning: Precision is ill-defined and being set to 0.0 in labels with no predicted samples. Use `zero_division` parameter to control this behavior.\n",
      "  _warn_prf(average, modifier, f\"{metric.capitalize()} is\", len(result))\n",
      "/Library/Frameworks/Python.framework/Versions/3.9/lib/python3.9/site-packages/sklearn/metrics/_classification.py:1509: UndefinedMetricWarning: Precision is ill-defined and being set to 0.0 in labels with no predicted samples. Use `zero_division` parameter to control this behavior.\n",
      "  _warn_prf(average, modifier, f\"{metric.capitalize()} is\", len(result))\n"
     ]
    }
   ],
   "source": [
    "res = model.predict(X_test)\n",
    "print(res)\n",
    "print(Y_test)\n",
    "from sklearn.metrics import accuracy_score\n",
    "accuracy = accuracy_score(Y_test,res)\n",
    "print(accuracy)\n",
    "from sklearn.metrics import classification_report\n",
    "print(classification_report(Y_test,res,digits=6))"
   ]
  },
  {
   "cell_type": "code",
   "execution_count": 6,
   "metadata": {},
   "outputs": [
    {
     "name": "stderr",
     "output_type": "stream",
     "text": [
      "/Library/Frameworks/Python.framework/Versions/3.9/lib/python3.9/site-packages/tqdm/auto.py:21: TqdmWarning: IProgress not found. Please update jupyter and ipywidgets. See https://ipywidgets.readthedocs.io/en/stable/user_install.html\n",
      "  from .autonotebook import tqdm as notebook_tqdm\n"
     ]
    },
    {
     "name": "stdout",
     "output_type": "stream",
     "text": [
      "[2024-07-12 18:06:19.954] Start to evalute the model:\n",
      "[2024-07-12 18:06:19.955] Evaluating cascade layer = 0 \n",
      "[2024-07-12 18:06:20.573] Evaluating cascade layer = 1 \n",
      "[2024-07-12 18:06:21.216] Evaluating cascade layer = 2 \n",
      "[2024-07-12 18:06:22.390] Start to evalute the model:\n",
      "[2024-07-12 18:06:22.391] Evaluating cascade layer = 0 \n",
      "[2024-07-12 18:06:22.957] Evaluating cascade layer = 1 \n",
      "[2024-07-12 18:06:23.629] Evaluating cascade layer = 2 \n",
      "[2024-07-12 18:06:24.444] Start to evalute the model:\n",
      "[2024-07-12 18:06:24.445] Evaluating cascade layer = 0 \n",
      "[2024-07-12 18:06:25.025] Evaluating cascade layer = 1 \n",
      "[2024-07-12 18:06:25.666] Evaluating cascade layer = 2 \n",
      "[2024-07-12 18:06:26.349] Start to evalute the model:\n",
      "[2024-07-12 18:06:26.350] Evaluating cascade layer = 0 \n",
      "[2024-07-12 18:06:26.956] Evaluating cascade layer = 1 \n",
      "[2024-07-12 18:06:27.629] Evaluating cascade layer = 2 \n"
     ]
    },
    {
     "name": "stderr",
     "output_type": "stream",
     "text": [
      "PermutationExplainer explainer:   0%|          | 1/1985 [00:00<?, ?it/s]"
     ]
    },
    {
     "name": "stdout",
     "output_type": "stream",
     "text": [
      "[2024-07-12 18:06:28.365] Start to evalute the model:\n",
      "[2024-07-12 18:06:28.366] Evaluating cascade layer = 0 \n",
      "[2024-07-12 18:06:29.018] Evaluating cascade layer = 1 \n",
      "[2024-07-12 18:06:30.096] Evaluating cascade layer = 2 \n",
      "[2024-07-12 18:06:31.064] Start to evalute the model:\n",
      "[2024-07-12 18:06:31.065] Evaluating cascade layer = 0 \n",
      "[2024-07-12 18:06:32.016] Evaluating cascade layer = 1 \n",
      "[2024-07-12 18:06:32.878] Evaluating cascade layer = 2 \n",
      "[2024-07-12 18:06:33.766] Start to evalute the model:\n",
      "[2024-07-12 18:06:33.767] Evaluating cascade layer = 0 \n",
      "[2024-07-12 18:06:34.402] Evaluating cascade layer = 1 \n",
      "[2024-07-12 18:06:35.072] Evaluating cascade layer = 2 \n",
      "[2024-07-12 18:06:35.748] Start to evalute the model:\n",
      "[2024-07-12 18:06:35.749] Evaluating cascade layer = 0 \n",
      "[2024-07-12 18:06:36.367] Evaluating cascade layer = 1 \n",
      "[2024-07-12 18:06:37.018] Evaluating cascade layer = 2 \n",
      "[2024-07-12 18:06:37.743] Start to evalute the model:\n",
      "[2024-07-12 18:06:37.744] Evaluating cascade layer = 0 \n",
      "[2024-07-12 18:06:38.176] Evaluating cascade layer = 1 \n",
      "[2024-07-12 18:06:38.653] Evaluating cascade layer = 2 \n"
     ]
    },
    {
     "name": "stderr",
     "output_type": "stream",
     "text": [
      "PermutationExplainer explainer:   0%|          | 3/1985 [00:21<2:58:06,  5.39s/it]"
     ]
    },
    {
     "name": "stdout",
     "output_type": "stream",
     "text": [
      "[2024-07-12 18:06:39.146] Start to evalute the model:\n",
      "[2024-07-12 18:06:39.147] Evaluating cascade layer = 0 \n",
      "[2024-07-12 18:06:39.804] Evaluating cascade layer = 1 \n",
      "[2024-07-12 18:06:40.596] Evaluating cascade layer = 2 \n",
      "[2024-07-12 18:06:41.336] Start to evalute the model:\n",
      "[2024-07-12 18:06:41.337] Evaluating cascade layer = 0 \n",
      "[2024-07-12 18:06:41.972] Evaluating cascade layer = 1 \n",
      "[2024-07-12 18:06:43.017] Evaluating cascade layer = 2 \n",
      "[2024-07-12 18:06:43.844] Start to evalute the model:\n",
      "[2024-07-12 18:06:43.845] Evaluating cascade layer = 0 \n",
      "[2024-07-12 18:06:44.459] Evaluating cascade layer = 1 \n",
      "[2024-07-12 18:06:45.095] Evaluating cascade layer = 2 \n",
      "[2024-07-12 18:06:45.871] Start to evalute the model:\n",
      "[2024-07-12 18:06:45.872] Evaluating cascade layer = 0 \n",
      "[2024-07-12 18:06:46.608] Evaluating cascade layer = 1 \n",
      "[2024-07-12 18:06:47.558] Evaluating cascade layer = 2 \n",
      "[2024-07-12 18:06:48.471] Start to evalute the model:\n",
      "[2024-07-12 18:06:48.473] Evaluating cascade layer = 0 \n",
      "[2024-07-12 18:06:49.006] Evaluating cascade layer = 1 \n",
      "[2024-07-12 18:06:49.564] Evaluating cascade layer = 2 \n"
     ]
    },
    {
     "name": "stderr",
     "output_type": "stream",
     "text": [
      "PermutationExplainer explainer:   0%|          | 4/1985 [00:32<4:14:28,  7.71s/it]"
     ]
    },
    {
     "name": "stdout",
     "output_type": "stream",
     "text": [
      "[2024-07-12 18:06:50.096] Start to evalute the model:\n",
      "[2024-07-12 18:06:50.097] Evaluating cascade layer = 0 \n",
      "[2024-07-12 18:06:50.851] Evaluating cascade layer = 1 \n",
      "[2024-07-12 18:06:51.632] Evaluating cascade layer = 2 \n",
      "[2024-07-12 18:06:52.391] Start to evalute the model:\n",
      "[2024-07-12 18:06:52.392] Evaluating cascade layer = 0 \n",
      "[2024-07-12 18:06:53.051] Evaluating cascade layer = 1 \n",
      "[2024-07-12 18:06:53.756] Evaluating cascade layer = 2 \n",
      "[2024-07-12 18:06:54.476] Start to evalute the model:\n",
      "[2024-07-12 18:06:54.477] Evaluating cascade layer = 0 \n",
      "[2024-07-12 18:06:55.234] Evaluating cascade layer = 1 \n",
      "[2024-07-12 18:06:56.032] Evaluating cascade layer = 2 \n",
      "[2024-07-12 18:06:56.890] Start to evalute the model:\n",
      "[2024-07-12 18:06:56.891] Evaluating cascade layer = 0 \n",
      "[2024-07-12 18:06:57.675] Evaluating cascade layer = 1 \n",
      "[2024-07-12 18:06:58.387] Evaluating cascade layer = 2 \n",
      "[2024-07-12 18:06:59.152] Start to evalute the model:\n",
      "[2024-07-12 18:06:59.153] Evaluating cascade layer = 0 \n",
      "[2024-07-12 18:06:59.589] Evaluating cascade layer = 1 \n",
      "[2024-07-12 18:07:00.059] Evaluating cascade layer = 2 \n"
     ]
    },
    {
     "name": "stderr",
     "output_type": "stream",
     "text": [
      "PermutationExplainer explainer:   0%|          | 5/1985 [00:43<4:48:27,  8.74s/it]"
     ]
    },
    {
     "name": "stdout",
     "output_type": "stream",
     "text": [
      "[2024-07-12 18:07:00.574] Start to evalute the model:\n",
      "[2024-07-12 18:07:00.575] Evaluating cascade layer = 0 \n",
      "[2024-07-12 18:07:01.174] Evaluating cascade layer = 1 \n",
      "[2024-07-12 18:07:02.059] Evaluating cascade layer = 2 \n",
      "[2024-07-12 18:07:02.949] Start to evalute the model:\n",
      "[2024-07-12 18:07:02.951] Evaluating cascade layer = 0 \n",
      "[2024-07-12 18:07:03.567] Evaluating cascade layer = 1 \n",
      "[2024-07-12 18:07:04.865] Evaluating cascade layer = 2 \n",
      "[2024-07-12 18:07:05.862] Start to evalute the model:\n",
      "[2024-07-12 18:07:05.863] Evaluating cascade layer = 0 \n",
      "[2024-07-12 18:07:06.662] Evaluating cascade layer = 1 \n",
      "[2024-07-12 18:07:07.822] Evaluating cascade layer = 2 \n",
      "[2024-07-12 18:07:08.779] Start to evalute the model:\n",
      "[2024-07-12 18:07:08.780] Evaluating cascade layer = 0 \n",
      "[2024-07-12 18:07:09.447] Evaluating cascade layer = 1 \n",
      "[2024-07-12 18:07:10.252] Evaluating cascade layer = 2 \n",
      "[2024-07-12 18:07:11.174] Start to evalute the model:\n",
      "[2024-07-12 18:07:11.175] Evaluating cascade layer = 0 \n",
      "[2024-07-12 18:07:11.730] Evaluating cascade layer = 1 \n",
      "[2024-07-12 18:07:12.469] Evaluating cascade layer = 2 \n"
     ]
    },
    {
     "name": "stderr",
     "output_type": "stream",
     "text": [
      "PermutationExplainer explainer:   0%|          | 6/1985 [00:55<5:32:11, 10.07s/it]"
     ]
    },
    {
     "name": "stdout",
     "output_type": "stream",
     "text": [
      "[2024-07-12 18:07:13.141] Start to evalute the model:\n",
      "[2024-07-12 18:07:13.142] Evaluating cascade layer = 0 \n",
      "[2024-07-12 18:07:13.861] Evaluating cascade layer = 1 \n",
      "[2024-07-12 18:07:14.620] Evaluating cascade layer = 2 \n",
      "[2024-07-12 18:07:15.276] Start to evalute the model:\n",
      "[2024-07-12 18:07:15.277] Evaluating cascade layer = 0 \n",
      "[2024-07-12 18:07:15.935] Evaluating cascade layer = 1 \n",
      "[2024-07-12 18:07:16.528] Evaluating cascade layer = 2 \n",
      "[2024-07-12 18:07:17.187] Start to evalute the model:\n",
      "[2024-07-12 18:07:17.188] Evaluating cascade layer = 0 \n",
      "[2024-07-12 18:07:17.809] Evaluating cascade layer = 1 \n",
      "[2024-07-12 18:07:18.487] Evaluating cascade layer = 2 \n",
      "[2024-07-12 18:07:19.173] Start to evalute the model:\n",
      "[2024-07-12 18:07:19.174] Evaluating cascade layer = 0 \n",
      "[2024-07-12 18:07:20.035] Evaluating cascade layer = 1 \n",
      "[2024-07-12 18:07:21.039] Evaluating cascade layer = 2 \n",
      "[2024-07-12 18:07:21.805] Start to evalute the model:\n",
      "[2024-07-12 18:07:21.806] Evaluating cascade layer = 0 \n",
      "[2024-07-12 18:07:22.332] Evaluating cascade layer = 1 \n",
      "[2024-07-12 18:07:22.905] Evaluating cascade layer = 2 \n"
     ]
    },
    {
     "name": "stderr",
     "output_type": "stream",
     "text": [
      "PermutationExplainer explainer:   0%|          | 7/1985 [01:06<5:33:59, 10.13s/it]"
     ]
    },
    {
     "name": "stdout",
     "output_type": "stream",
     "text": [
      "[2024-07-12 18:07:23.392] Start to evalute the model:\n",
      "[2024-07-12 18:07:23.393] Evaluating cascade layer = 0 \n",
      "[2024-07-12 18:07:24.029] Evaluating cascade layer = 1 \n",
      "[2024-07-12 18:07:24.675] Evaluating cascade layer = 2 \n",
      "[2024-07-12 18:07:25.386] Start to evalute the model:\n",
      "[2024-07-12 18:07:25.387] Evaluating cascade layer = 0 \n",
      "[2024-07-12 18:07:25.970] Evaluating cascade layer = 1 \n",
      "[2024-07-12 18:07:26.629] Evaluating cascade layer = 2 \n",
      "[2024-07-12 18:07:27.402] Start to evalute the model:\n",
      "[2024-07-12 18:07:27.403] Evaluating cascade layer = 0 \n",
      "[2024-07-12 18:07:27.947] Evaluating cascade layer = 1 \n",
      "[2024-07-12 18:07:28.627] Evaluating cascade layer = 2 \n",
      "[2024-07-12 18:07:29.322] Start to evalute the model:\n",
      "[2024-07-12 18:07:29.323] Evaluating cascade layer = 0 \n",
      "[2024-07-12 18:07:29.942] Evaluating cascade layer = 1 \n",
      "[2024-07-12 18:07:30.717] Evaluating cascade layer = 2 \n",
      "[2024-07-12 18:07:31.393] Start to evalute the model:\n",
      "[2024-07-12 18:07:31.394] Evaluating cascade layer = 0 \n",
      "[2024-07-12 18:07:31.850] Evaluating cascade layer = 1 \n",
      "[2024-07-12 18:07:32.345] Evaluating cascade layer = 2 \n"
     ]
    },
    {
     "name": "stderr",
     "output_type": "stream",
     "text": [
      "PermutationExplainer explainer:   0%|          | 8/1985 [01:15<5:27:04,  9.93s/it]"
     ]
    },
    {
     "name": "stdout",
     "output_type": "stream",
     "text": [
      "[2024-07-12 18:07:32.887] Start to evalute the model:\n",
      "[2024-07-12 18:07:32.888] Evaluating cascade layer = 0 \n",
      "[2024-07-12 18:07:33.437] Evaluating cascade layer = 1 \n",
      "[2024-07-12 18:07:34.092] Evaluating cascade layer = 2 \n",
      "[2024-07-12 18:07:34.827] Start to evalute the model:\n",
      "[2024-07-12 18:07:34.828] Evaluating cascade layer = 0 \n",
      "[2024-07-12 18:07:35.423] Evaluating cascade layer = 1 \n",
      "[2024-07-12 18:07:36.121] Evaluating cascade layer = 2 \n",
      "[2024-07-12 18:07:36.856] Start to evalute the model:\n",
      "[2024-07-12 18:07:36.857] Evaluating cascade layer = 0 \n",
      "[2024-07-12 18:07:37.873] Evaluating cascade layer = 1 \n",
      "[2024-07-12 18:07:38.795] Evaluating cascade layer = 2 \n",
      "[2024-07-12 18:07:39.536] Start to evalute the model:\n",
      "[2024-07-12 18:07:39.537] Evaluating cascade layer = 0 \n",
      "[2024-07-12 18:07:40.311] Evaluating cascade layer = 1 \n",
      "[2024-07-12 18:07:41.051] Evaluating cascade layer = 2 \n",
      "[2024-07-12 18:07:41.716] Start to evalute the model:\n",
      "[2024-07-12 18:07:41.717] Evaluating cascade layer = 0 \n",
      "[2024-07-12 18:07:42.161] Evaluating cascade layer = 1 \n",
      "[2024-07-12 18:07:42.625] Evaluating cascade layer = 2 \n"
     ]
    },
    {
     "name": "stderr",
     "output_type": "stream",
     "text": [
      "PermutationExplainer explainer:   0%|          | 9/1985 [01:25<5:30:55, 10.05s/it]"
     ]
    },
    {
     "name": "stdout",
     "output_type": "stream",
     "text": [
      "[2024-07-12 18:07:43.201] Start to evalute the model:\n",
      "[2024-07-12 18:07:43.202] Evaluating cascade layer = 0 \n",
      "[2024-07-12 18:07:43.782] Evaluating cascade layer = 1 \n",
      "[2024-07-12 18:07:44.387] Evaluating cascade layer = 2 \n",
      "[2024-07-12 18:07:44.950] Start to evalute the model:\n",
      "[2024-07-12 18:07:44.951] Evaluating cascade layer = 0 \n",
      "[2024-07-12 18:07:45.485] Evaluating cascade layer = 1 \n",
      "[2024-07-12 18:07:46.044] Evaluating cascade layer = 2 \n",
      "[2024-07-12 18:07:46.581] Start to evalute the model:\n",
      "[2024-07-12 18:07:46.582] Evaluating cascade layer = 0 \n",
      "[2024-07-12 18:07:47.303] Evaluating cascade layer = 1 \n",
      "[2024-07-12 18:07:47.939] Evaluating cascade layer = 2 \n",
      "[2024-07-12 18:07:48.565] Start to evalute the model:\n",
      "[2024-07-12 18:07:48.566] Evaluating cascade layer = 0 \n",
      "[2024-07-12 18:07:49.124] Evaluating cascade layer = 1 \n",
      "[2024-07-12 18:07:49.676] Evaluating cascade layer = 2 \n",
      "[2024-07-12 18:07:50.269] Start to evalute the model:\n",
      "[2024-07-12 18:07:50.270] Evaluating cascade layer = 0 \n",
      "[2024-07-12 18:07:50.810] Evaluating cascade layer = 1 \n",
      "[2024-07-12 18:07:51.482] Evaluating cascade layer = 2 \n"
     ]
    },
    {
     "name": "stderr",
     "output_type": "stream",
     "text": [
      "PermutationExplainer explainer:   1%|          | 10/1985 [01:34<5:17:48,  9.65s/it]"
     ]
    },
    {
     "name": "stdout",
     "output_type": "stream",
     "text": [
      "[2024-07-12 18:07:51.981] Start to evalute the model:\n",
      "[2024-07-12 18:07:51.982] Evaluating cascade layer = 0 \n",
      "[2024-07-12 18:07:52.774] Evaluating cascade layer = 1 \n",
      "[2024-07-12 18:07:53.417] Evaluating cascade layer = 2 \n",
      "[2024-07-12 18:07:54.241] Start to evalute the model:\n",
      "[2024-07-12 18:07:54.242] Evaluating cascade layer = 0 \n",
      "[2024-07-12 18:07:54.911] Evaluating cascade layer = 1 \n",
      "[2024-07-12 18:07:55.717] Evaluating cascade layer = 2 \n",
      "[2024-07-12 18:07:56.417] Start to evalute the model:\n",
      "[2024-07-12 18:07:56.418] Evaluating cascade layer = 0 \n",
      "[2024-07-12 18:07:57.053] Evaluating cascade layer = 1 \n",
      "[2024-07-12 18:07:57.726] Evaluating cascade layer = 2 \n",
      "[2024-07-12 18:07:58.528] Start to evalute the model:\n",
      "[2024-07-12 18:07:58.529] Evaluating cascade layer = 0 \n",
      "[2024-07-12 18:07:59.169] Evaluating cascade layer = 1 \n",
      "[2024-07-12 18:08:00.002] Evaluating cascade layer = 2 \n",
      "[2024-07-12 18:08:00.833] Start to evalute the model:\n",
      "[2024-07-12 18:08:00.837] Evaluating cascade layer = 0 \n",
      "[2024-07-12 18:08:01.410] Evaluating cascade layer = 1 \n",
      "[2024-07-12 18:08:01.859] Evaluating cascade layer = 2 \n"
     ]
    },
    {
     "name": "stderr",
     "output_type": "stream",
     "text": [
      "PermutationExplainer explainer:   1%|          | 11/1985 [01:44<5:24:34,  9.87s/it]"
     ]
    },
    {
     "name": "stdout",
     "output_type": "stream",
     "text": [
      "[2024-07-12 18:08:02.322] Start to evalute the model:\n",
      "[2024-07-12 18:08:02.323] Evaluating cascade layer = 0 \n",
      "[2024-07-12 18:08:02.926] Evaluating cascade layer = 1 \n",
      "[2024-07-12 18:08:03.530] Evaluating cascade layer = 2 \n",
      "[2024-07-12 18:08:04.140] Start to evalute the model:\n",
      "[2024-07-12 18:08:04.141] Evaluating cascade layer = 0 \n",
      "[2024-07-12 18:08:04.768] Evaluating cascade layer = 1 \n",
      "[2024-07-12 18:08:05.377] Evaluating cascade layer = 2 \n",
      "[2024-07-12 18:08:06.016] Start to evalute the model:\n",
      "[2024-07-12 18:08:06.017] Evaluating cascade layer = 0 \n",
      "[2024-07-12 18:08:06.601] Evaluating cascade layer = 1 \n",
      "[2024-07-12 18:08:07.168] Evaluating cascade layer = 2 \n",
      "[2024-07-12 18:08:07.818] Start to evalute the model:\n",
      "[2024-07-12 18:08:07.818] Evaluating cascade layer = 0 \n",
      "[2024-07-12 18:08:08.557] Evaluating cascade layer = 1 \n",
      "[2024-07-12 18:08:09.225] Evaluating cascade layer = 2 \n",
      "[2024-07-12 18:08:09.805] Start to evalute the model:\n",
      "[2024-07-12 18:08:09.806] Evaluating cascade layer = 0 \n",
      "[2024-07-12 18:08:10.203] Evaluating cascade layer = 1 \n",
      "[2024-07-12 18:08:10.607] Evaluating cascade layer = 2 \n"
     ]
    },
    {
     "name": "stderr",
     "output_type": "stream",
     "text": [
      "PermutationExplainer explainer:   1%|          | 12/1985 [01:53<5:12:38,  9.51s/it]"
     ]
    },
    {
     "name": "stdout",
     "output_type": "stream",
     "text": [
      "[2024-07-12 18:08:11.013] Start to evalute the model:\n",
      "[2024-07-12 18:08:11.014] Evaluating cascade layer = 0 \n",
      "[2024-07-12 18:08:11.610] Evaluating cascade layer = 1 \n",
      "[2024-07-12 18:08:12.171] Evaluating cascade layer = 2 \n",
      "[2024-07-12 18:08:12.772] Start to evalute the model:\n",
      "[2024-07-12 18:08:12.772] Evaluating cascade layer = 0 \n",
      "[2024-07-12 18:08:13.332] Evaluating cascade layer = 1 \n",
      "[2024-07-12 18:08:13.928] Evaluating cascade layer = 2 \n",
      "[2024-07-12 18:08:14.534] Start to evalute the model:\n",
      "[2024-07-12 18:08:14.535] Evaluating cascade layer = 0 \n",
      "[2024-07-12 18:08:15.083] Evaluating cascade layer = 1 \n",
      "[2024-07-12 18:08:15.705] Evaluating cascade layer = 2 \n",
      "[2024-07-12 18:08:16.286] Start to evalute the model:\n",
      "[2024-07-12 18:08:16.287] Evaluating cascade layer = 0 \n",
      "[2024-07-12 18:08:16.889] Evaluating cascade layer = 1 \n",
      "[2024-07-12 18:08:17.456] Evaluating cascade layer = 2 \n",
      "[2024-07-12 18:08:18.308] Start to evalute the model:\n",
      "[2024-07-12 18:08:18.311] Evaluating cascade layer = 0 \n",
      "[2024-07-12 18:08:18.808] Evaluating cascade layer = 1 \n",
      "[2024-07-12 18:08:19.249] Evaluating cascade layer = 2 \n"
     ]
    },
    {
     "name": "stderr",
     "output_type": "stream",
     "text": [
      "PermutationExplainer explainer:   1%|          | 13/1985 [02:02<5:05:19,  9.29s/it]"
     ]
    },
    {
     "name": "stdout",
     "output_type": "stream",
     "text": [
      "[2024-07-12 18:08:19.804] Start to evalute the model:\n",
      "[2024-07-12 18:08:19.805] Evaluating cascade layer = 0 \n",
      "[2024-07-12 18:08:20.403] Evaluating cascade layer = 1 \n",
      "[2024-07-12 18:08:21.152] Evaluating cascade layer = 2 \n",
      "[2024-07-12 18:08:21.919] Start to evalute the model:\n",
      "[2024-07-12 18:08:21.920] Evaluating cascade layer = 0 \n",
      "[2024-07-12 18:08:22.428] Evaluating cascade layer = 1 \n",
      "[2024-07-12 18:08:23.190] Evaluating cascade layer = 2 \n",
      "[2024-07-12 18:08:24.060] Start to evalute the model:\n",
      "[2024-07-12 18:08:24.061] Evaluating cascade layer = 0 \n",
      "[2024-07-12 18:08:24.651] Evaluating cascade layer = 1 \n",
      "[2024-07-12 18:08:25.500] Evaluating cascade layer = 2 \n",
      "[2024-07-12 18:08:26.460] Start to evalute the model:\n",
      "[2024-07-12 18:08:26.462] Evaluating cascade layer = 0 \n",
      "[2024-07-12 18:08:27.203] Evaluating cascade layer = 1 \n",
      "[2024-07-12 18:08:28.152] Evaluating cascade layer = 2 \n",
      "[2024-07-12 18:08:29.041] Start to evalute the model:\n",
      "[2024-07-12 18:08:29.042] Evaluating cascade layer = 0 \n",
      "[2024-07-12 18:08:29.524] Evaluating cascade layer = 1 \n",
      "[2024-07-12 18:08:30.072] Evaluating cascade layer = 2 \n"
     ]
    },
    {
     "name": "stderr",
     "output_type": "stream",
     "text": [
      "PermutationExplainer explainer:   1%|          | 14/1985 [02:13<5:20:46,  9.76s/it]"
     ]
    },
    {
     "name": "stdout",
     "output_type": "stream",
     "text": [
      "[2024-07-12 18:08:30.664] Start to evalute the model:\n",
      "[2024-07-12 18:08:30.664] Evaluating cascade layer = 0 \n",
      "[2024-07-12 18:08:31.188] Evaluating cascade layer = 1 \n",
      "[2024-07-12 18:08:31.816] Evaluating cascade layer = 2 \n",
      "[2024-07-12 18:08:32.436] Start to evalute the model:\n",
      "[2024-07-12 18:08:32.437] Evaluating cascade layer = 0 \n",
      "[2024-07-12 18:08:32.955] Evaluating cascade layer = 1 \n",
      "[2024-07-12 18:08:33.471] Evaluating cascade layer = 2 \n",
      "[2024-07-12 18:08:34.090] Start to evalute the model:\n",
      "[2024-07-12 18:08:34.091] Evaluating cascade layer = 0 \n",
      "[2024-07-12 18:08:34.639] Evaluating cascade layer = 1 \n",
      "[2024-07-12 18:08:35.224] Evaluating cascade layer = 2 \n",
      "[2024-07-12 18:08:35.871] Start to evalute the model:\n",
      "[2024-07-12 18:08:35.872] Evaluating cascade layer = 0 \n",
      "[2024-07-12 18:08:36.430] Evaluating cascade layer = 1 \n",
      "[2024-07-12 18:08:37.109] Evaluating cascade layer = 2 \n",
      "[2024-07-12 18:08:37.722] Start to evalute the model:\n",
      "[2024-07-12 18:08:37.723] Evaluating cascade layer = 0 \n",
      "[2024-07-12 18:08:38.154] Evaluating cascade layer = 1 \n",
      "[2024-07-12 18:08:38.609] Evaluating cascade layer = 2 \n"
     ]
    },
    {
     "name": "stderr",
     "output_type": "stream",
     "text": [
      "PermutationExplainer explainer:   1%|          | 15/1985 [02:21<5:07:23,  9.36s/it]"
     ]
    },
    {
     "name": "stdout",
     "output_type": "stream",
     "text": [
      "[2024-07-12 18:08:39.093] Start to evalute the model:\n",
      "[2024-07-12 18:08:39.094] Evaluating cascade layer = 0 \n",
      "[2024-07-12 18:08:39.860] Evaluating cascade layer = 1 \n",
      "[2024-07-12 18:08:40.774] Evaluating cascade layer = 2 \n",
      "[2024-07-12 18:08:41.564] Start to evalute the model:\n",
      "[2024-07-12 18:08:41.565] Evaluating cascade layer = 0 \n",
      "[2024-07-12 18:08:42.381] Evaluating cascade layer = 1 \n",
      "[2024-07-12 18:08:43.163] Evaluating cascade layer = 2 \n",
      "[2024-07-12 18:08:43.983] Start to evalute the model:\n",
      "[2024-07-12 18:08:43.984] Evaluating cascade layer = 0 \n",
      "[2024-07-12 18:08:44.662] Evaluating cascade layer = 1 \n"
     ]
    },
    {
     "name": "stderr",
     "output_type": "stream",
     "text": [
      "PermutationExplainer explainer:   1%|          | 15/1985 [02:27<5:46:33, 10.55s/it]\n"
     ]
    },
    {
     "ename": "KeyboardInterrupt",
     "evalue": "",
     "output_type": "error",
     "traceback": [
      "\u001b[0;31m---------------------------------------------------------------------------\u001b[0m",
      "\u001b[0;31mKeyboardInterrupt\u001b[0m                         Traceback (most recent call last)",
      "Cell \u001b[0;32mIn[6], line 3\u001b[0m\n\u001b[1;32m      1\u001b[0m \u001b[38;5;28;01mimport\u001b[39;00m \u001b[38;5;21;01mshap\u001b[39;00m\n\u001b[1;32m      2\u001b[0m explainer \u001b[38;5;241m=\u001b[39m shap\u001b[38;5;241m.\u001b[39mExplainer(model\u001b[38;5;241m.\u001b[39mpredict,X_test)\n\u001b[0;32m----> 3\u001b[0m shap_values \u001b[38;5;241m=\u001b[39m \u001b[43mexplainer\u001b[49m\u001b[38;5;241;43m.\u001b[39;49m\u001b[43mshap_values\u001b[49m\u001b[43m(\u001b[49m\u001b[43mX_test\u001b[49m\u001b[43m)\u001b[49m\n\u001b[1;32m      4\u001b[0m shap\u001b[38;5;241m.\u001b[39msummary_plot(shap_values, X_test,feature_names \u001b[38;5;241m=\u001b[39m features,plot_size\u001b[38;5;241m=\u001b[39m(\u001b[38;5;241m20\u001b[39m,\u001b[38;5;241m15\u001b[39m),plot_type\u001b[38;5;241m=\u001b[39m\u001b[38;5;124m\"\u001b[39m\u001b[38;5;124mbar\u001b[39m\u001b[38;5;124m\"\u001b[39m,show\u001b[38;5;241m=\u001b[39m\u001b[38;5;28;01mFalse\u001b[39;00m)\n",
      "File \u001b[0;32m/Library/Frameworks/Python.framework/Versions/3.9/lib/python3.9/site-packages/shap/explainers/_permutation.py:208\u001b[0m, in \u001b[0;36mPermutationExplainer.shap_values\u001b[0;34m(self, X, npermutations, main_effects, error_bounds, batch_evals, silent)\u001b[0m\n\u001b[1;32m    183\u001b[0m \u001b[38;5;28;01mdef\u001b[39;00m \u001b[38;5;21mshap_values\u001b[39m(\u001b[38;5;28mself\u001b[39m, X, npermutations\u001b[38;5;241m=\u001b[39m\u001b[38;5;241m10\u001b[39m, main_effects\u001b[38;5;241m=\u001b[39m\u001b[38;5;28;01mFalse\u001b[39;00m, error_bounds\u001b[38;5;241m=\u001b[39m\u001b[38;5;28;01mFalse\u001b[39;00m, batch_evals\u001b[38;5;241m=\u001b[39m\u001b[38;5;28;01mTrue\u001b[39;00m, silent\u001b[38;5;241m=\u001b[39m\u001b[38;5;28;01mFalse\u001b[39;00m):\n\u001b[1;32m    184\u001b[0m \u001b[38;5;250m    \u001b[39m\u001b[38;5;124;03m\"\"\"Legacy interface to estimate the SHAP values for a set of samples.\u001b[39;00m\n\u001b[1;32m    185\u001b[0m \n\u001b[1;32m    186\u001b[0m \u001b[38;5;124;03m    Parameters\u001b[39;00m\n\u001b[0;32m   (...)\u001b[0m\n\u001b[1;32m    206\u001b[0m \n\u001b[1;32m    207\u001b[0m \u001b[38;5;124;03m    \"\"\"\u001b[39;00m\n\u001b[0;32m--> 208\u001b[0m     explanation \u001b[38;5;241m=\u001b[39m \u001b[38;5;28;43mself\u001b[39;49m\u001b[43m(\u001b[49m\u001b[43mX\u001b[49m\u001b[43m,\u001b[49m\u001b[43m \u001b[49m\u001b[43mmax_evals\u001b[49m\u001b[38;5;241;43m=\u001b[39;49m\u001b[43mnpermutations\u001b[49m\u001b[43m \u001b[49m\u001b[38;5;241;43m*\u001b[39;49m\u001b[43m \u001b[49m\u001b[43mX\u001b[49m\u001b[38;5;241;43m.\u001b[39;49m\u001b[43mshape\u001b[49m\u001b[43m[\u001b[49m\u001b[38;5;241;43m1\u001b[39;49m\u001b[43m]\u001b[49m\u001b[43m,\u001b[49m\u001b[43m \u001b[49m\u001b[43mmain_effects\u001b[49m\u001b[38;5;241;43m=\u001b[39;49m\u001b[43mmain_effects\u001b[49m\u001b[43m)\u001b[49m\n\u001b[1;32m    209\u001b[0m     \u001b[38;5;28;01mreturn\u001b[39;00m explanation\u001b[38;5;241m.\u001b[39mvalues\n",
      "File \u001b[0;32m/Library/Frameworks/Python.framework/Versions/3.9/lib/python3.9/site-packages/shap/explainers/_permutation.py:77\u001b[0m, in \u001b[0;36mPermutationExplainer.__call__\u001b[0;34m(self, max_evals, main_effects, error_bounds, batch_size, outputs, silent, *args)\u001b[0m\n\u001b[1;32m     74\u001b[0m \u001b[38;5;28;01mdef\u001b[39;00m \u001b[38;5;21m__call__\u001b[39m(\u001b[38;5;28mself\u001b[39m, \u001b[38;5;241m*\u001b[39margs, max_evals\u001b[38;5;241m=\u001b[39m\u001b[38;5;241m500\u001b[39m, main_effects\u001b[38;5;241m=\u001b[39m\u001b[38;5;28;01mFalse\u001b[39;00m, error_bounds\u001b[38;5;241m=\u001b[39m\u001b[38;5;28;01mFalse\u001b[39;00m, batch_size\u001b[38;5;241m=\u001b[39m\u001b[38;5;124m\"\u001b[39m\u001b[38;5;124mauto\u001b[39m\u001b[38;5;124m\"\u001b[39m,\n\u001b[1;32m     75\u001b[0m              outputs\u001b[38;5;241m=\u001b[39m\u001b[38;5;28;01mNone\u001b[39;00m, silent\u001b[38;5;241m=\u001b[39m\u001b[38;5;28;01mFalse\u001b[39;00m):\n\u001b[1;32m     76\u001b[0m \u001b[38;5;250m    \u001b[39m\u001b[38;5;124;03m\"\"\"Explain the output of the model on the given arguments.\"\"\"\u001b[39;00m\n\u001b[0;32m---> 77\u001b[0m     \u001b[38;5;28;01mreturn\u001b[39;00m \u001b[38;5;28;43msuper\u001b[39;49m\u001b[43m(\u001b[49m\u001b[43m)\u001b[49m\u001b[38;5;241;43m.\u001b[39;49m\u001b[38;5;21;43m__call__\u001b[39;49m\u001b[43m(\u001b[49m\n\u001b[1;32m     78\u001b[0m \u001b[43m        \u001b[49m\u001b[38;5;241;43m*\u001b[39;49m\u001b[43margs\u001b[49m\u001b[43m,\u001b[49m\u001b[43m \u001b[49m\u001b[43mmax_evals\u001b[49m\u001b[38;5;241;43m=\u001b[39;49m\u001b[43mmax_evals\u001b[49m\u001b[43m,\u001b[49m\u001b[43m \u001b[49m\u001b[43mmain_effects\u001b[49m\u001b[38;5;241;43m=\u001b[39;49m\u001b[43mmain_effects\u001b[49m\u001b[43m,\u001b[49m\u001b[43m \u001b[49m\u001b[43merror_bounds\u001b[49m\u001b[38;5;241;43m=\u001b[39;49m\u001b[43merror_bounds\u001b[49m\u001b[43m,\u001b[49m\u001b[43m \u001b[49m\u001b[43mbatch_size\u001b[49m\u001b[38;5;241;43m=\u001b[39;49m\u001b[43mbatch_size\u001b[49m\u001b[43m,\u001b[49m\n\u001b[1;32m     79\u001b[0m \u001b[43m        \u001b[49m\u001b[43moutputs\u001b[49m\u001b[38;5;241;43m=\u001b[39;49m\u001b[43moutputs\u001b[49m\u001b[43m,\u001b[49m\u001b[43m \u001b[49m\u001b[43msilent\u001b[49m\u001b[38;5;241;43m=\u001b[39;49m\u001b[43msilent\u001b[49m\n\u001b[1;32m     80\u001b[0m \u001b[43m    \u001b[49m\u001b[43m)\u001b[49m\n",
      "File \u001b[0;32m/Library/Frameworks/Python.framework/Versions/3.9/lib/python3.9/site-packages/shap/explainers/_explainer.py:266\u001b[0m, in \u001b[0;36mExplainer.__call__\u001b[0;34m(self, max_evals, main_effects, error_bounds, batch_size, outputs, silent, *args, **kwargs)\u001b[0m\n\u001b[1;32m    264\u001b[0m     feature_names \u001b[38;5;241m=\u001b[39m [[] \u001b[38;5;28;01mfor\u001b[39;00m _ \u001b[38;5;129;01min\u001b[39;00m \u001b[38;5;28mrange\u001b[39m(\u001b[38;5;28mlen\u001b[39m(args))]\n\u001b[1;32m    265\u001b[0m \u001b[38;5;28;01mfor\u001b[39;00m row_args \u001b[38;5;129;01min\u001b[39;00m show_progress(\u001b[38;5;28mzip\u001b[39m(\u001b[38;5;241m*\u001b[39margs), num_rows, \u001b[38;5;28mself\u001b[39m\u001b[38;5;241m.\u001b[39m\u001b[38;5;18m__class__\u001b[39m\u001b[38;5;241m.\u001b[39m\u001b[38;5;18m__name__\u001b[39m\u001b[38;5;241m+\u001b[39m\u001b[38;5;124m\"\u001b[39m\u001b[38;5;124m explainer\u001b[39m\u001b[38;5;124m\"\u001b[39m, silent):\n\u001b[0;32m--> 266\u001b[0m     row_result \u001b[38;5;241m=\u001b[39m \u001b[38;5;28;43mself\u001b[39;49m\u001b[38;5;241;43m.\u001b[39;49m\u001b[43mexplain_row\u001b[49m\u001b[43m(\u001b[49m\n\u001b[1;32m    267\u001b[0m \u001b[43m        \u001b[49m\u001b[38;5;241;43m*\u001b[39;49m\u001b[43mrow_args\u001b[49m\u001b[43m,\u001b[49m\u001b[43m \u001b[49m\u001b[43mmax_evals\u001b[49m\u001b[38;5;241;43m=\u001b[39;49m\u001b[43mmax_evals\u001b[49m\u001b[43m,\u001b[49m\u001b[43m \u001b[49m\u001b[43mmain_effects\u001b[49m\u001b[38;5;241;43m=\u001b[39;49m\u001b[43mmain_effects\u001b[49m\u001b[43m,\u001b[49m\u001b[43m \u001b[49m\u001b[43merror_bounds\u001b[49m\u001b[38;5;241;43m=\u001b[39;49m\u001b[43merror_bounds\u001b[49m\u001b[43m,\u001b[49m\n\u001b[1;32m    268\u001b[0m \u001b[43m        \u001b[49m\u001b[43mbatch_size\u001b[49m\u001b[38;5;241;43m=\u001b[39;49m\u001b[43mbatch_size\u001b[49m\u001b[43m,\u001b[49m\u001b[43m \u001b[49m\u001b[43moutputs\u001b[49m\u001b[38;5;241;43m=\u001b[39;49m\u001b[43moutputs\u001b[49m\u001b[43m,\u001b[49m\u001b[43m \u001b[49m\u001b[43msilent\u001b[49m\u001b[38;5;241;43m=\u001b[39;49m\u001b[43msilent\u001b[49m\u001b[43m,\u001b[49m\u001b[43m \u001b[49m\u001b[38;5;241;43m*\u001b[39;49m\u001b[38;5;241;43m*\u001b[39;49m\u001b[43mkwargs\u001b[49m\n\u001b[1;32m    269\u001b[0m \u001b[43m    \u001b[49m\u001b[43m)\u001b[49m\n\u001b[1;32m    270\u001b[0m     values\u001b[38;5;241m.\u001b[39mappend(row_result\u001b[38;5;241m.\u001b[39mget(\u001b[38;5;124m\"\u001b[39m\u001b[38;5;124mvalues\u001b[39m\u001b[38;5;124m\"\u001b[39m, \u001b[38;5;28;01mNone\u001b[39;00m))\n\u001b[1;32m    271\u001b[0m     output_indices\u001b[38;5;241m.\u001b[39mappend(row_result\u001b[38;5;241m.\u001b[39mget(\u001b[38;5;124m\"\u001b[39m\u001b[38;5;124moutput_indices\u001b[39m\u001b[38;5;124m\"\u001b[39m, \u001b[38;5;28;01mNone\u001b[39;00m))\n",
      "File \u001b[0;32m/Library/Frameworks/Python.framework/Versions/3.9/lib/python3.9/site-packages/shap/explainers/_permutation.py:133\u001b[0m, in \u001b[0;36mPermutationExplainer.explain_row\u001b[0;34m(self, max_evals, main_effects, error_bounds, batch_size, outputs, silent, *row_args)\u001b[0m\n\u001b[1;32m    130\u001b[0m     i \u001b[38;5;241m+\u001b[39m\u001b[38;5;241m=\u001b[39m \u001b[38;5;241m1\u001b[39m\n\u001b[1;32m    132\u001b[0m \u001b[38;5;66;03m# evaluate the masked model\u001b[39;00m\n\u001b[0;32m--> 133\u001b[0m outputs \u001b[38;5;241m=\u001b[39m \u001b[43mfm\u001b[49m\u001b[43m(\u001b[49m\u001b[43mmasks\u001b[49m\u001b[43m,\u001b[49m\u001b[43m \u001b[49m\u001b[43mzero_index\u001b[49m\u001b[38;5;241;43m=\u001b[39;49m\u001b[38;5;241;43m0\u001b[39;49m\u001b[43m,\u001b[49m\u001b[43m \u001b[49m\u001b[43mbatch_size\u001b[49m\u001b[38;5;241;43m=\u001b[39;49m\u001b[43mbatch_size\u001b[49m\u001b[43m)\u001b[49m\n\u001b[1;32m    135\u001b[0m \u001b[38;5;28;01mif\u001b[39;00m row_values \u001b[38;5;129;01mis\u001b[39;00m \u001b[38;5;28;01mNone\u001b[39;00m:\n\u001b[1;32m    136\u001b[0m     row_values \u001b[38;5;241m=\u001b[39m np\u001b[38;5;241m.\u001b[39mzeros((\u001b[38;5;28mlen\u001b[39m(fm),) \u001b[38;5;241m+\u001b[39m outputs\u001b[38;5;241m.\u001b[39mshape[\u001b[38;5;241m1\u001b[39m:])\n",
      "File \u001b[0;32m/Library/Frameworks/Python.framework/Versions/3.9/lib/python3.9/site-packages/shap/utils/_masked_model.py:60\u001b[0m, in \u001b[0;36mMaskedModel.__call__\u001b[0;34m(self, masks, zero_index, batch_size)\u001b[0m\n\u001b[1;32m     58\u001b[0m \u001b[38;5;28;01mif\u001b[39;00m \u001b[38;5;28mlen\u001b[39m(masks\u001b[38;5;241m.\u001b[39mshape) \u001b[38;5;241m==\u001b[39m \u001b[38;5;241m1\u001b[39m:\n\u001b[1;32m     59\u001b[0m     \u001b[38;5;28;01mif\u001b[39;00m \u001b[38;5;28mgetattr\u001b[39m(\u001b[38;5;28mself\u001b[39m\u001b[38;5;241m.\u001b[39mmasker, \u001b[38;5;124m\"\u001b[39m\u001b[38;5;124msupports_delta_masking\u001b[39m\u001b[38;5;124m\"\u001b[39m, \u001b[38;5;28;01mFalse\u001b[39;00m):\n\u001b[0;32m---> 60\u001b[0m         \u001b[38;5;28;01mreturn\u001b[39;00m \u001b[38;5;28;43mself\u001b[39;49m\u001b[38;5;241;43m.\u001b[39;49m\u001b[43m_delta_masking_call\u001b[49m\u001b[43m(\u001b[49m\u001b[43mmasks\u001b[49m\u001b[43m,\u001b[49m\u001b[43m \u001b[49m\u001b[43mzero_index\u001b[49m\u001b[38;5;241;43m=\u001b[39;49m\u001b[43mzero_index\u001b[49m\u001b[43m,\u001b[49m\u001b[43m \u001b[49m\u001b[43mbatch_size\u001b[49m\u001b[38;5;241;43m=\u001b[39;49m\u001b[43mbatch_size\u001b[49m\u001b[43m)\u001b[49m\n\u001b[1;32m     62\u001b[0m     \u001b[38;5;66;03m# we need to convert from delta masking to a full masking call because we were given a delta masking\u001b[39;00m\n\u001b[1;32m     63\u001b[0m     \u001b[38;5;66;03m# input but the masker does not support delta masking\u001b[39;00m\n\u001b[1;32m     64\u001b[0m     \u001b[38;5;28;01melse\u001b[39;00m:\n\u001b[1;32m     65\u001b[0m         full_masks \u001b[38;5;241m=\u001b[39m np\u001b[38;5;241m.\u001b[39mzeros((\u001b[38;5;28mint\u001b[39m(np\u001b[38;5;241m.\u001b[39msum(masks \u001b[38;5;241m>\u001b[39m\u001b[38;5;241m=\u001b[39m \u001b[38;5;241m0\u001b[39m)), \u001b[38;5;28mself\u001b[39m\u001b[38;5;241m.\u001b[39m_masker_cols), dtype\u001b[38;5;241m=\u001b[39m\u001b[38;5;28mbool\u001b[39m)\n",
      "File \u001b[0;32m/Library/Frameworks/Python.framework/Versions/3.9/lib/python3.9/site-packages/shap/utils/_masked_model.py:206\u001b[0m, in \u001b[0;36mMaskedModel._delta_masking_call\u001b[0;34m(self, masks, zero_index, batch_size)\u001b[0m\n\u001b[1;32m    203\u001b[0m     batch_positions[i\u001b[38;5;241m+\u001b[39m\u001b[38;5;241m1\u001b[39m] \u001b[38;5;241m=\u001b[39m batch_positions[i] \u001b[38;5;241m+\u001b[39m num_varying_rows[i]\n\u001b[1;32m    205\u001b[0m \u001b[38;5;66;03m# joined_masked_inputs = self._stack_inputs(all_masked_inputs)\u001b[39;00m\n\u001b[0;32m--> 206\u001b[0m outputs \u001b[38;5;241m=\u001b[39m \u001b[38;5;28;43mself\u001b[39;49m\u001b[38;5;241;43m.\u001b[39;49m\u001b[43mmodel\u001b[49m\u001b[43m(\u001b[49m\u001b[38;5;241;43m*\u001b[39;49m\u001b[43msubset_masked_inputs\u001b[49m\u001b[43m)\u001b[49m\n\u001b[1;32m    207\u001b[0m _assert_output_input_match(subset_masked_inputs, outputs)\n\u001b[1;32m    209\u001b[0m \u001b[38;5;28;01mif\u001b[39;00m \u001b[38;5;28mself\u001b[39m\u001b[38;5;241m.\u001b[39mlinearize_link \u001b[38;5;129;01mand\u001b[39;00m \u001b[38;5;28mself\u001b[39m\u001b[38;5;241m.\u001b[39mlink \u001b[38;5;241m!=\u001b[39m links\u001b[38;5;241m.\u001b[39midentity \u001b[38;5;129;01mand\u001b[39;00m \u001b[38;5;28mself\u001b[39m\u001b[38;5;241m.\u001b[39m_linearizing_weights \u001b[38;5;129;01mis\u001b[39;00m \u001b[38;5;28;01mNone\u001b[39;00m:\n",
      "File \u001b[0;32m/Library/Frameworks/Python.framework/Versions/3.9/lib/python3.9/site-packages/shap/models/_model.py:21\u001b[0m, in \u001b[0;36mModel.__call__\u001b[0;34m(self, *args)\u001b[0m\n\u001b[1;32m     20\u001b[0m \u001b[38;5;28;01mdef\u001b[39;00m \u001b[38;5;21m__call__\u001b[39m(\u001b[38;5;28mself\u001b[39m, \u001b[38;5;241m*\u001b[39margs):\n\u001b[0;32m---> 21\u001b[0m     out \u001b[38;5;241m=\u001b[39m \u001b[38;5;28;43mself\u001b[39;49m\u001b[38;5;241;43m.\u001b[39;49m\u001b[43minner_model\u001b[49m\u001b[43m(\u001b[49m\u001b[38;5;241;43m*\u001b[39;49m\u001b[43margs\u001b[49m\u001b[43m)\u001b[49m\n\u001b[1;32m     22\u001b[0m     is_tensor \u001b[38;5;241m=\u001b[39m safe_isinstance(out, \u001b[38;5;124m\"\u001b[39m\u001b[38;5;124mtorch.Tensor\u001b[39m\u001b[38;5;124m\"\u001b[39m)\n\u001b[1;32m     23\u001b[0m     out \u001b[38;5;241m=\u001b[39m out\u001b[38;5;241m.\u001b[39mcpu()\u001b[38;5;241m.\u001b[39mdetach()\u001b[38;5;241m.\u001b[39mnumpy() \u001b[38;5;28;01mif\u001b[39;00m is_tensor \u001b[38;5;28;01melse\u001b[39;00m np\u001b[38;5;241m.\u001b[39marray(out)\n",
      "File \u001b[0;32m/Library/Frameworks/Python.framework/Versions/3.9/lib/python3.9/site-packages/deepforest/cascade.py:1541\u001b[0m, in \u001b[0;36mCascadeForestClassifier.predict\u001b[0;34m(self, X)\u001b[0m\n\u001b[1;32m   1525\u001b[0m \u001b[38;5;250m\u001b[39m\u001b[38;5;124;03m\"\"\"\u001b[39;00m\n\u001b[1;32m   1526\u001b[0m \u001b[38;5;124;03mPredict class for X.\u001b[39;00m\n\u001b[1;32m   1527\u001b[0m \n\u001b[0;32m   (...)\u001b[0m\n\u001b[1;32m   1537\u001b[0m \u001b[38;5;124;03m    The predicted classes.\u001b[39;00m\n\u001b[1;32m   1538\u001b[0m \u001b[38;5;124;03m\"\"\"\u001b[39;00m\n\u001b[1;32m   1539\u001b[0m X \u001b[38;5;241m=\u001b[39m check_array(X)\n\u001b[0;32m-> 1541\u001b[0m proba \u001b[38;5;241m=\u001b[39m \u001b[38;5;28;43mself\u001b[39;49m\u001b[38;5;241;43m.\u001b[39;49m\u001b[43mpredict_proba\u001b[49m\u001b[43m(\u001b[49m\u001b[43mX\u001b[49m\u001b[43m)\u001b[49m\n\u001b[1;32m   1542\u001b[0m y \u001b[38;5;241m=\u001b[39m \u001b[38;5;28mself\u001b[39m\u001b[38;5;241m.\u001b[39m_decode_class_labels(np\u001b[38;5;241m.\u001b[39margmax(proba, axis\u001b[38;5;241m=\u001b[39m\u001b[38;5;241m1\u001b[39m))\n\u001b[1;32m   1543\u001b[0m \u001b[38;5;28;01mreturn\u001b[39;00m y\n",
      "File \u001b[0;32m/Library/Frameworks/Python.framework/Versions/3.9/lib/python3.9/site-packages/deepforest/cascade.py:1485\u001b[0m, in \u001b[0;36mCascadeForestClassifier.predict_proba\u001b[0;34m(self, X)\u001b[0m\n\u001b[1;32m   1479\u001b[0m     X_aug_test_ \u001b[38;5;241m=\u001b[39m \u001b[38;5;28mself\u001b[39m\u001b[38;5;241m.\u001b[39m_bin_data(\n\u001b[1;32m   1480\u001b[0m         binner_, X_aug_test_, is_training_data\u001b[38;5;241m=\u001b[39m\u001b[38;5;28;01mFalse\u001b[39;00m\n\u001b[1;32m   1481\u001b[0m     )\n\u001b[1;32m   1482\u001b[0m     X_middle_test_ \u001b[38;5;241m=\u001b[39m _utils\u001b[38;5;241m.\u001b[39mmerge_array(\n\u001b[1;32m   1483\u001b[0m         X_middle_test_, X_aug_test_, \u001b[38;5;28mself\u001b[39m\u001b[38;5;241m.\u001b[39mn_features_\n\u001b[1;32m   1484\u001b[0m     )\n\u001b[0;32m-> 1485\u001b[0m     X_aug_test_ \u001b[38;5;241m=\u001b[39m \u001b[43mlayer\u001b[49m\u001b[38;5;241;43m.\u001b[39;49m\u001b[43mtransform\u001b[49m\u001b[43m(\u001b[49m\u001b[43mX_middle_test_\u001b[49m\u001b[43m)\u001b[49m\n\u001b[1;32m   1486\u001b[0m \u001b[38;5;28;01melse\u001b[39;00m:\n\u001b[1;32m   1487\u001b[0m     binner_ \u001b[38;5;241m=\u001b[39m \u001b[38;5;28mself\u001b[39m\u001b[38;5;241m.\u001b[39m_get_binner(layer_idx)\n",
      "File \u001b[0;32m/Library/Frameworks/Python.framework/Versions/3.9/lib/python3.9/site-packages/deepforest/_layer.py:143\u001b[0m, in \u001b[0;36mBaseCascadeLayer.transform\u001b[0;34m(self, X)\u001b[0m\n\u001b[1;32m    141\u001b[0m \u001b[38;5;28;01mdef\u001b[39;00m \u001b[38;5;21mtransform\u001b[39m(\u001b[38;5;28mself\u001b[39m, X):\n\u001b[1;32m    142\u001b[0m \u001b[38;5;250m    \u001b[39m\u001b[38;5;124;03m\"\"\"Preserved for the naming consistency.\"\"\"\u001b[39;00m\n\u001b[0;32m--> 143\u001b[0m     \u001b[38;5;28;01mreturn\u001b[39;00m \u001b[38;5;28;43mself\u001b[39;49m\u001b[38;5;241;43m.\u001b[39;49m\u001b[43mpredict_full\u001b[49m\u001b[43m(\u001b[49m\u001b[43mX\u001b[49m\u001b[43m)\u001b[49m\n",
      "File \u001b[0;32m/Library/Frameworks/Python.framework/Versions/3.9/lib/python3.9/site-packages/deepforest/_layer.py:159\u001b[0m, in \u001b[0;36mBaseCascadeLayer.predict_full\u001b[0;34m(self, X)\u001b[0m\n\u001b[1;32m    156\u001b[0m         estimator \u001b[38;5;241m=\u001b[39m \u001b[38;5;28mself\u001b[39m\u001b[38;5;241m.\u001b[39mbuffer\u001b[38;5;241m.\u001b[39mload_estimator(estimator)\n\u001b[1;32m    158\u001b[0m     left, right \u001b[38;5;241m=\u001b[39m \u001b[38;5;28mself\u001b[39m\u001b[38;5;241m.\u001b[39mn_outputs \u001b[38;5;241m*\u001b[39m idx, \u001b[38;5;28mself\u001b[39m\u001b[38;5;241m.\u001b[39mn_outputs \u001b[38;5;241m*\u001b[39m (idx \u001b[38;5;241m+\u001b[39m \u001b[38;5;241m1\u001b[39m)\n\u001b[0;32m--> 159\u001b[0m     pred[:, left:right] \u001b[38;5;241m+\u001b[39m\u001b[38;5;241m=\u001b[39m \u001b[43mestimator\u001b[49m\u001b[38;5;241;43m.\u001b[39;49m\u001b[43mpredict\u001b[49m\u001b[43m(\u001b[49m\u001b[43mX\u001b[49m\u001b[43m)\u001b[49m\n\u001b[1;32m    161\u001b[0m \u001b[38;5;28;01mreturn\u001b[39;00m pred\n",
      "File \u001b[0;32m/Library/Frameworks/Python.framework/Versions/3.9/lib/python3.9/site-packages/deepforest/_estimator.py:221\u001b[0m, in \u001b[0;36mEstimator.predict\u001b[0;34m(self, X)\u001b[0m\n\u001b[1;32m    219\u001b[0m \u001b[38;5;28;01mdef\u001b[39;00m \u001b[38;5;21mpredict\u001b[39m(\u001b[38;5;28mself\u001b[39m, X):\n\u001b[1;32m    220\u001b[0m     \u001b[38;5;28;01mif\u001b[39;00m \u001b[38;5;28mself\u001b[39m\u001b[38;5;241m.\u001b[39mis_classifier:\n\u001b[0;32m--> 221\u001b[0m         \u001b[38;5;28;01mreturn\u001b[39;00m \u001b[38;5;28;43mself\u001b[39;49m\u001b[38;5;241;43m.\u001b[39;49m\u001b[43mestimator_\u001b[49m\u001b[38;5;241;43m.\u001b[39;49m\u001b[43mpredict_proba\u001b[49m\u001b[43m(\u001b[49m\u001b[43mX\u001b[49m\u001b[43m)\u001b[49m\n\u001b[1;32m    222\u001b[0m     pred \u001b[38;5;241m=\u001b[39m \u001b[38;5;28mself\u001b[39m\u001b[38;5;241m.\u001b[39mestimator_\u001b[38;5;241m.\u001b[39mpredict(X)\n\u001b[1;32m    223\u001b[0m     \u001b[38;5;28;01mif\u001b[39;00m \u001b[38;5;28mlen\u001b[39m(pred\u001b[38;5;241m.\u001b[39mshape) \u001b[38;5;241m==\u001b[39m \u001b[38;5;241m1\u001b[39m:\n",
      "File \u001b[0;32m/Library/Frameworks/Python.framework/Versions/3.9/lib/python3.9/site-packages/deepforest/forest.py:612\u001b[0m, in \u001b[0;36mForestClassifier.predict_proba\u001b[0;34m(self, X)\u001b[0m\n\u001b[1;32m    607\u001b[0m all_proba \u001b[38;5;241m=\u001b[39m [\n\u001b[1;32m    608\u001b[0m     np\u001b[38;5;241m.\u001b[39mzeros((X\u001b[38;5;241m.\u001b[39mshape[\u001b[38;5;241m0\u001b[39m], j), dtype\u001b[38;5;241m=\u001b[39mnp\u001b[38;5;241m.\u001b[39mfloat64)\n\u001b[1;32m    609\u001b[0m     \u001b[38;5;28;01mfor\u001b[39;00m j \u001b[38;5;129;01min\u001b[39;00m np\u001b[38;5;241m.\u001b[39matleast_1d(\u001b[38;5;28mself\u001b[39m\u001b[38;5;241m.\u001b[39mn_classes_)\n\u001b[1;32m    610\u001b[0m ]\n\u001b[1;32m    611\u001b[0m lock \u001b[38;5;241m=\u001b[39m threading\u001b[38;5;241m.\u001b[39mLock()\n\u001b[0;32m--> 612\u001b[0m \u001b[43mParallel\u001b[49m\u001b[43m(\u001b[49m\u001b[43mn_jobs\u001b[49m\u001b[38;5;241;43m=\u001b[39;49m\u001b[43mn_jobs\u001b[49m\u001b[43m,\u001b[49m\u001b[43m \u001b[49m\u001b[43mverbose\u001b[49m\u001b[38;5;241;43m=\u001b[39;49m\u001b[38;5;28;43mself\u001b[39;49m\u001b[38;5;241;43m.\u001b[39;49m\u001b[43mverbose\u001b[49m\u001b[43m,\u001b[49m\u001b[43m \u001b[49m\u001b[43mrequire\u001b[49m\u001b[38;5;241;43m=\u001b[39;49m\u001b[38;5;124;43m\"\u001b[39;49m\u001b[38;5;124;43msharedmem\u001b[39;49m\u001b[38;5;124;43m\"\u001b[39;49m\u001b[43m,\u001b[49m\u001b[43m)\u001b[49m\u001b[43m(\u001b[49m\n\u001b[1;32m    613\u001b[0m \u001b[43m    \u001b[49m\u001b[43mdelayed\u001b[49m\u001b[43m(\u001b[49m\u001b[43m_accumulate_prediction\u001b[49m\u001b[43m)\u001b[49m\u001b[43m(\u001b[49m\n\u001b[1;32m    614\u001b[0m \u001b[43m        \u001b[49m\u001b[38;5;28;43mself\u001b[39;49m\u001b[38;5;241;43m.\u001b[39;49m\u001b[43mfeatures\u001b[49m\u001b[43m[\u001b[49m\u001b[43mi\u001b[49m\u001b[43m]\u001b[49m\u001b[43m,\u001b[49m\n\u001b[1;32m    615\u001b[0m \u001b[43m        \u001b[49m\u001b[38;5;28;43mself\u001b[39;49m\u001b[38;5;241;43m.\u001b[39;49m\u001b[43mthresholds\u001b[49m\u001b[43m[\u001b[49m\u001b[43mi\u001b[49m\u001b[43m]\u001b[49m\u001b[43m,\u001b[49m\n\u001b[1;32m    616\u001b[0m \u001b[43m        \u001b[49m\u001b[38;5;28;43mself\u001b[39;49m\u001b[38;5;241;43m.\u001b[39;49m\u001b[43mchildrens\u001b[49m\u001b[43m[\u001b[49m\u001b[43mi\u001b[49m\u001b[43m]\u001b[49m\u001b[43m,\u001b[49m\n\u001b[1;32m    617\u001b[0m \u001b[43m        \u001b[49m\u001b[38;5;28;43mself\u001b[39;49m\u001b[38;5;241;43m.\u001b[39;49m\u001b[43mvalues\u001b[49m\u001b[43m[\u001b[49m\u001b[43mi\u001b[49m\u001b[43m]\u001b[49m\u001b[43m,\u001b[49m\n\u001b[1;32m    618\u001b[0m \u001b[43m        \u001b[49m\u001b[43mX\u001b[49m\u001b[43m,\u001b[49m\n\u001b[1;32m    619\u001b[0m \u001b[43m        \u001b[49m\u001b[43mall_proba\u001b[49m\u001b[43m,\u001b[49m\n\u001b[1;32m    620\u001b[0m \u001b[43m        \u001b[49m\u001b[43mlock\u001b[49m\u001b[43m,\u001b[49m\n\u001b[1;32m    621\u001b[0m \u001b[43m    \u001b[49m\u001b[43m)\u001b[49m\n\u001b[1;32m    622\u001b[0m \u001b[43m    \u001b[49m\u001b[38;5;28;43;01mfor\u001b[39;49;00m\u001b[43m \u001b[49m\u001b[43mi\u001b[49m\u001b[43m \u001b[49m\u001b[38;5;129;43;01min\u001b[39;49;00m\u001b[43m \u001b[49m\u001b[38;5;28;43mrange\u001b[39;49m\u001b[43m(\u001b[49m\u001b[38;5;28;43mself\u001b[39;49m\u001b[38;5;241;43m.\u001b[39;49m\u001b[43mn_estimators\u001b[49m\u001b[43m)\u001b[49m\n\u001b[1;32m    623\u001b[0m \u001b[43m\u001b[49m\u001b[43m)\u001b[49m\n\u001b[1;32m    625\u001b[0m \u001b[38;5;28;01mfor\u001b[39;00m proba \u001b[38;5;129;01min\u001b[39;00m all_proba:\n\u001b[1;32m    626\u001b[0m     proba \u001b[38;5;241m/\u001b[39m\u001b[38;5;241m=\u001b[39m \u001b[38;5;28mlen\u001b[39m(\u001b[38;5;28mself\u001b[39m\u001b[38;5;241m.\u001b[39mfeatures)\n",
      "File \u001b[0;32m/Library/Frameworks/Python.framework/Versions/3.9/lib/python3.9/site-packages/joblib/parallel.py:1918\u001b[0m, in \u001b[0;36mParallel.__call__\u001b[0;34m(self, iterable)\u001b[0m\n\u001b[1;32m   1916\u001b[0m     output \u001b[38;5;241m=\u001b[39m \u001b[38;5;28mself\u001b[39m\u001b[38;5;241m.\u001b[39m_get_sequential_output(iterable)\n\u001b[1;32m   1917\u001b[0m     \u001b[38;5;28mnext\u001b[39m(output)\n\u001b[0;32m-> 1918\u001b[0m     \u001b[38;5;28;01mreturn\u001b[39;00m output \u001b[38;5;28;01mif\u001b[39;00m \u001b[38;5;28mself\u001b[39m\u001b[38;5;241m.\u001b[39mreturn_generator \u001b[38;5;28;01melse\u001b[39;00m \u001b[38;5;28;43mlist\u001b[39;49m\u001b[43m(\u001b[49m\u001b[43moutput\u001b[49m\u001b[43m)\u001b[49m\n\u001b[1;32m   1920\u001b[0m \u001b[38;5;66;03m# Let's create an ID that uniquely identifies the current call. If the\u001b[39;00m\n\u001b[1;32m   1921\u001b[0m \u001b[38;5;66;03m# call is interrupted early and that the same instance is immediately\u001b[39;00m\n\u001b[1;32m   1922\u001b[0m \u001b[38;5;66;03m# re-used, this id will be used to prevent workers that were\u001b[39;00m\n\u001b[1;32m   1923\u001b[0m \u001b[38;5;66;03m# concurrently finalizing a task from the previous call to run the\u001b[39;00m\n\u001b[1;32m   1924\u001b[0m \u001b[38;5;66;03m# callback.\u001b[39;00m\n\u001b[1;32m   1925\u001b[0m \u001b[38;5;28;01mwith\u001b[39;00m \u001b[38;5;28mself\u001b[39m\u001b[38;5;241m.\u001b[39m_lock:\n",
      "File \u001b[0;32m/Library/Frameworks/Python.framework/Versions/3.9/lib/python3.9/site-packages/joblib/parallel.py:1847\u001b[0m, in \u001b[0;36mParallel._get_sequential_output\u001b[0;34m(self, iterable)\u001b[0m\n\u001b[1;32m   1845\u001b[0m \u001b[38;5;28mself\u001b[39m\u001b[38;5;241m.\u001b[39mn_dispatched_batches \u001b[38;5;241m+\u001b[39m\u001b[38;5;241m=\u001b[39m \u001b[38;5;241m1\u001b[39m\n\u001b[1;32m   1846\u001b[0m \u001b[38;5;28mself\u001b[39m\u001b[38;5;241m.\u001b[39mn_dispatched_tasks \u001b[38;5;241m+\u001b[39m\u001b[38;5;241m=\u001b[39m \u001b[38;5;241m1\u001b[39m\n\u001b[0;32m-> 1847\u001b[0m res \u001b[38;5;241m=\u001b[39m \u001b[43mfunc\u001b[49m\u001b[43m(\u001b[49m\u001b[38;5;241;43m*\u001b[39;49m\u001b[43margs\u001b[49m\u001b[43m,\u001b[49m\u001b[43m \u001b[49m\u001b[38;5;241;43m*\u001b[39;49m\u001b[38;5;241;43m*\u001b[39;49m\u001b[43mkwargs\u001b[49m\u001b[43m)\u001b[49m\n\u001b[1;32m   1848\u001b[0m \u001b[38;5;28mself\u001b[39m\u001b[38;5;241m.\u001b[39mn_completed_tasks \u001b[38;5;241m+\u001b[39m\u001b[38;5;241m=\u001b[39m \u001b[38;5;241m1\u001b[39m\n\u001b[1;32m   1849\u001b[0m \u001b[38;5;28mself\u001b[39m\u001b[38;5;241m.\u001b[39mprint_progress()\n",
      "File \u001b[0;32m/Library/Frameworks/Python.framework/Versions/3.9/lib/python3.9/site-packages/deepforest/forest.py:213\u001b[0m, in \u001b[0;36m_accumulate_prediction\u001b[0;34m(feature, threshold, children, value, X, out, lock)\u001b[0m\n\u001b[1;32m    211\u001b[0m \u001b[38;5;28;01mdef\u001b[39;00m \u001b[38;5;21m_accumulate_prediction\u001b[39m(feature, threshold, children, value, X, out, lock):\n\u001b[1;32m    212\u001b[0m \u001b[38;5;250m    \u001b[39m\u001b[38;5;124;03m\"\"\"This is a utility function for joblib's Parallel.\"\"\"\u001b[39;00m\n\u001b[0;32m--> 213\u001b[0m     prediction \u001b[38;5;241m=\u001b[39m \u001b[43m_C_FOREST\u001b[49m\u001b[38;5;241;43m.\u001b[39;49m\u001b[43mpredict\u001b[49m\u001b[43m(\u001b[49m\u001b[43mX\u001b[49m\u001b[43m,\u001b[49m\u001b[43m \u001b[49m\u001b[43mfeature\u001b[49m\u001b[43m,\u001b[49m\u001b[43m \u001b[49m\u001b[43mthreshold\u001b[49m\u001b[43m,\u001b[49m\u001b[43m \u001b[49m\u001b[43mchildren\u001b[49m\u001b[43m,\u001b[49m\u001b[43m \u001b[49m\u001b[43mvalue\u001b[49m\u001b[43m)\u001b[49m\n\u001b[1;32m    214\u001b[0m     \u001b[38;5;28;01mwith\u001b[39;00m lock:\n\u001b[1;32m    215\u001b[0m         \u001b[38;5;28;01mif\u001b[39;00m \u001b[38;5;28mlen\u001b[39m(out) \u001b[38;5;241m==\u001b[39m \u001b[38;5;241m1\u001b[39m:\n",
      "\u001b[0;31mKeyboardInterrupt\u001b[0m: "
     ]
    }
   ],
   "source": [
    "import shap\n",
    "explainer = shap.Explainer(model.predict,X_test)\n",
    "shap_values = explainer.shap_values(X_test)\n",
    "shap.summary_plot(shap_values, X_test,feature_names = features,plot_size=(20,15),plot_type=\"bar\",show=False)"
   ]
  }
 ],
 "metadata": {
  "kernelspec": {
   "display_name": "Python 3",
   "language": "python",
   "name": "python3"
  },
  "language_info": {
   "codemirror_mode": {
    "name": "ipython",
    "version": 3
   },
   "file_extension": ".py",
   "mimetype": "text/x-python",
   "name": "python",
   "nbconvert_exporter": "python",
   "pygments_lexer": "ipython3",
   "version": "3.9.13"
  }
 },
 "nbformat": 4,
 "nbformat_minor": 2
}
