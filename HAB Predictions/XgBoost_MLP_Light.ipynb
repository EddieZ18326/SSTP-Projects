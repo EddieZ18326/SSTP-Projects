{
 "cells": [
  {
   "cell_type": "code",
   "execution_count": null,
   "metadata": {},
   "outputs": [],
   "source": [
    "import numpy as np\n",
    "import matplotlib\n",
    "import pandas as pd\n",
    "\n",
    "dataset = pd.read_csv('/Users/wzhang/Downloads/lake_erie_habs_W4_6_8_9_12_13_16_2013-2020.xlsx - HAB_data (1).csv')\n",
    "\n",
    "train = dataset.iloc[:743,:]\n",
    "test = dataset.iloc[743:,:]\n",
    "print(train)\n",
    "print(test)\n",
    "X_train = pd.DataFrame(train.iloc[:,4:15].values)\n",
    "Y_train = train.iloc[:,16:].values\n",
    "print(X_train.shape)\n",
    "print(Y_train.shape)\n",
    "X_test = pd.DataFrame(test.iloc[:,4:15].values)\n",
    "Y_test = test.iloc[:,16:].values\n",
    "print(X_test.shape)\n",
    "print(Y_test.shape)\n",
    "from sklearn.preprocessing import MinMaxScaler\n",
    "scaler = MinMaxScaler()\n",
    "X_train = scaler.fit_transform(X_train)\n",
    "X_test = scaler.transform(X_test)\n"
   ]
  },
  {
   "cell_type": "code",
   "execution_count": null,
   "metadata": {},
   "outputs": [],
   "source": [
    "from tensorflow.keras.models import Sequential\n",
    "import tensorflow as tf\n",
    "from tensorflow.keras.layers import LSTM, Dropout, Dense, BatchNormalization\n",
    "from tensorflow.keras.layers import LSTM, Dense, Dropout\n",
    "from sklearn.ensemble import RandomForestRegressor"
   ]
  },
  {
   "cell_type": "code",
   "execution_count": null,
   "metadata": {},
   "outputs": [],
   "source": [
    "# Initialize MLP model\n",
    "def create_mlp():\n",
    "    mlp_model = Sequential([\n",
    "        Dense(64, activation='relu', input_shape=(X_train.shape[1],)),\n",
    "        Dense(32, activation='relu'),\n",
    "        Dense(16, activation='relu'),\n",
    "        Dense(1)  # Output layer for regression task\n",
    "    ])\n",
    "\n",
    "    # Compile the model\n",
    "    mlp_model.compile(optimizer=tf.keras.optimizers.Adam(learning_rate = 0.001), loss='mae')\n",
    "\n",
    "    # Print model summary\n",
    "    mlp_model.summary()\n",
    "\n",
    "    # Train the model\n",
    "    history = mlp_model.fit(X_train, Y_train, epochs=300, batch_size=32, validation_split=0.2)\n",
    "\n",
    "    # Evaluate model performance\n",
    "    Y_pred = mlp_model.predict(X_test)\n",
    "    return mlp_model\n"
   ]
  },
  {
   "cell_type": "code",
   "execution_count": null,
   "metadata": {},
   "outputs": [],
   "source": [
    "def create_rf():\n",
    "    # Initialize Random Forest regressor\n",
    "    rf_model = RandomForestRegressor(n_estimators=100, random_state=42)\n",
    "\n",
    "    # Train the model\n",
    "    rf_model.fit(X_train, Y_train)\n",
    "    return rf_model\n"
   ]
  },
  {
   "cell_type": "code",
   "execution_count": null,
   "metadata": {},
   "outputs": [],
   "source": [
    "import lightgbm as lgb\n",
    "def create_lightgbm():\n",
    "    params = { \n",
    "    'objective': 'regression', \n",
    "    'metric': 'rmse', \n",
    "    'boosting_type': 'gbdt', \n",
    "    'num_leaves': 31, \n",
    "    'learning_rate': 0.05, \n",
    "    'feature_fraction': 0.9, \n",
    "    }\n",
    "    train_data = lgb.Dataset(X_train,label=Y_train)\n",
    "    num_round = 100\n",
    "    bst = lgb.train(params, train_data, num_round) \n",
    "    from sklearn.metrics import mean_squared_error as mse \n",
    "    from lightgbm import LGBMRegressor \n",
    "    \n",
    "    # Create an instance of the LightGBM Regressor with the RMSE metric. \n",
    "    model = LGBMRegressor(metric='rmse') \n",
    "    \n",
    "    # Train the model using the training data. \n",
    "    model.fit(X_train, Y_train) \n",
    "\n",
    "    res = model.predict(X_test) \n",
    "    return model\n"
   ]
  },
  {
   "cell_type": "code",
   "execution_count": null,
   "metadata": {},
   "outputs": [],
   "source": [
    "from tensorflow.keras.layers import concatenate"
   ]
  },
  {
   "cell_type": "code",
   "execution_count": null,
   "metadata": {},
   "outputs": [],
   "source": [
    "rf = create_rf()\n",
    "mlp = create_mlp()\n",
    "lightgbm = create_lightgbm()\n",
    "mlpPredict = mlp.predict(X_train)\n",
    "lightgbmPredict = lightgbm.predict(X_train)\n",
    "mlpPredict.resize(743,1)\n",
    "lightgbmPredict.resize(743,1)\n",
    "trainData = concatenate([mlpPredict, lightgbmPredict])"
   ]
  },
  {
   "cell_type": "code",
   "execution_count": null,
   "metadata": {},
   "outputs": [],
   "source": [
    "import xgboost as xgb\n",
    "\n",
    "# Create regression matrices\n",
    "dtrain_reg = xgb.DMatrix(trainData, Y_train, enable_categorical=True)"
   ]
  },
  {
   "cell_type": "code",
   "execution_count": null,
   "metadata": {},
   "outputs": [],
   "source": [
    "params = {\"objective\": \"reg:squarederror\", \"tree_method\": \"gpu_hist\"}\n",
    "n = 100\n",
    "model = xgb.train(\n",
    "   params=params,\n",
    "   dtrain=dtrain_reg,\n",
    "   num_boost_round=n,\n",
    ")"
   ]
  },
  {
   "cell_type": "code",
   "execution_count": null,
   "metadata": {},
   "outputs": [],
   "source": [
    "mlpPredictTest = mlp.predict(X_test)\n",
    "lightgbmPredictTest = lightgbm.predict(X_test)\n",
    "lightgbmPredictTest.resize(168,1)\n",
    "testData = concatenate([mlpPredictTest,lightgbmPredictTest])\n",
    "dtest_reg = xgb.DMatrix(testData, Y_test, enable_categorical=True)"
   ]
  },
  {
   "cell_type": "code",
   "execution_count": null,
   "metadata": {},
   "outputs": [],
   "source": [
    "res = model.predict(dtest_reg)"
   ]
  },
  {
   "cell_type": "code",
   "execution_count": null,
   "metadata": {},
   "outputs": [],
   "source": [
    "from sklearn.metrics import r2_score \n",
    "r2 = r2_score(Y_test, res) \n",
    "print(r2)"
   ]
  },
  {
   "cell_type": "code",
   "execution_count": null,
   "metadata": {},
   "outputs": [],
   "source": [
    "from sklearn.metrics import mean_absolute_error\n",
    "mae = mean_absolute_error(Y_test,res)\n",
    "print(mae)"
   ]
  },
  {
   "cell_type": "code",
   "execution_count": null,
   "metadata": {},
   "outputs": [],
   "source": [
    "from sklearn.metrics import mean_absolute_percentage_error\n",
    "mape = mean_absolute_percentage_error(Y_test,res)\n",
    "print(mape)"
   ]
  },
  {
   "cell_type": "code",
   "execution_count": null,
   "metadata": {},
   "outputs": [],
   "source": [
    "from sklearn.metrics import mean_squared_error\n",
    "rmse = mean_squared_error(Y_test,res,squared=False)\n",
    "print(rmse)"
   ]
  }
 ],
 "metadata": {
  "kernelspec": {
   "display_name": "Python 3",
   "language": "python",
   "name": "python3"
  },
  "language_info": {
   "codemirror_mode": {
    "name": "ipython",
    "version": 3
   },
   "file_extension": ".py",
   "mimetype": "text/x-python",
   "name": "python",
   "nbconvert_exporter": "python",
   "pygments_lexer": "ipython3",
   "version": "3.9.13"
  }
 },
 "nbformat": 4,
 "nbformat_minor": 2
}
