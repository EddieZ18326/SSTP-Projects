{
 "cells": [
  {
   "cell_type": "code",
   "execution_count": null,
   "metadata": {},
   "outputs": [],
   "source": [
    "import numpy as np\n",
    "import matplotlib\n",
    "import pandas as pd\n",
    "import tensorflow as tf\n",
    "\n",
    "dataset = pd.read_csv('/Users/wzhang/Downloads/lake_erie_habs_W4_6_8_9_12_13_16_2013-2020.xlsx - HAB_data (1).csv')\n",
    "\n",
    "train = dataset.iloc[:743,:]\n",
    "test = dataset.iloc[743:,:]\n",
    "print(train)\n",
    "print(test)\n",
    "X_train = pd.DataFrame(train.iloc[:,4:15].values)\n",
    "Y_train = train.iloc[:,16:].values\n",
    "print(X_train.shape)\n",
    "print(Y_train.shape)\n",
    "X_test = pd.DataFrame(test.iloc[:,4:15].values)\n",
    "Y_test = test.iloc[:,16:].values\n",
    "print(X_test.shape)\n",
    "print(Y_test.shape)\n",
    "from sklearn.preprocessing import MinMaxScaler\n",
    "scaler = MinMaxScaler()\n",
    "X_train = scaler.fit_transform(X_train)\n",
    "X_test = scaler.transform(X_test)\n",
    "\n"
   ]
  },
  {
   "cell_type": "code",
   "execution_count": null,
   "metadata": {},
   "outputs": [],
   "source": [
    "from keras.models import Sequential, Model\n",
    "from tensorflow.keras.layers import LSTM, Dropout, Dense, BatchNormalization, GRU, LayerNormalization, MultiHeadAttention,TimeDistributed, Input, Flatten\n",
    "from sklearn.ensemble import RandomForestRegressor"
   ]
  },
  {
   "cell_type": "code",
   "execution_count": null,
   "metadata": {},
   "outputs": [],
   "source": [
    "def create_GRU():\n",
    "    model = Sequential()\n",
    "\n",
    "    model.add(GRU(units=100, return_sequences=True, input_shape=(X_train.shape[1], 1)))\n",
    "    model.add(Dropout(0.2))\n",
    "\n",
    "    model.add(GRU(units=100, return_sequences=True))\n",
    "    model.add(Dropout(0.2))\n",
    "\n",
    "    model.add(GRU(units=100))\n",
    "    model.add(Dropout(0.2))\n",
    "\n",
    "    model.add(Dense(units=1))\n",
    "    model.compile(optimizer=tf.keras.optimizers.Adam(learning_rate=0.0008), loss='mae')\n",
    "    model.fit(\n",
    "        X_train, Y_train, validation_split = 0.2, batch_size=24, epochs=2000\n",
    "    )\n",
    "    return model"
   ]
  },
  {
   "cell_type": "code",
   "execution_count": null,
   "metadata": {},
   "outputs": [],
   "source": [
    "from sklearn.linear_model import Lasso\n",
    "def create_lasso():\n",
    "    model = Lasso(alpha=100)\n",
    "    model.fit(X_train,Y_train)\n",
    "    return model\n"
   ]
  },
  {
   "cell_type": "code",
   "execution_count": null,
   "metadata": {},
   "outputs": [],
   "source": [
    "from tensorflow.keras.models import Sequential\n",
    "from tensorflow.keras.layers import LSTM, Dense, Dropout\n",
    "def create_LSTM():\n",
    "\n",
    "    # Define the LSTM model\n",
    "    model = Sequential()\n",
    "\n",
    "    model.add(LSTM(units=100, return_sequences=True, input_shape=(X_train.shape[1], 1)))\n",
    "    model.add(Dropout(0.2))\n",
    "\n",
    "    model.add(LSTM(units=100, return_sequences=True))\n",
    "    model.add(Dropout(0.2))\n",
    "\n",
    "    model.add(LSTM(units=100))\n",
    "    model.add(Dropout(0.2))\n",
    "\n",
    "    model.add(Dense(units=1))\n",
    "\n",
    "    model.compile(optimizer='adam', loss='mean_squared_error')\n",
    "\n",
    "\n",
    "    # Compile the model\n",
    "    model.compile(optimizer=tf.keras.optimizers.Adam(learning_rate=0.00075), loss='mae')\n",
    "    # Fit the model to the training data\n",
    "    history = model.fit(X_train, Y_train, epochs=1000, batch_size=64, validation_data=(X_test, Y_test), shuffle=False)\n",
    "    return model\n"
   ]
  },
  {
   "cell_type": "code",
   "execution_count": null,
   "metadata": {},
   "outputs": [],
   "source": [
    "def create_mlp():\n",
    "    # Initialize MLP model\n",
    "    mlp_model = Sequential([\n",
    "        Dense(64, activation='relu', input_shape=(X_train.shape[1],)),\n",
    "        Dense(32, activation='relu'),\n",
    "        Dense(16, activation='relu'),\n",
    "        Dense(1)  # Output layer for regression task\n",
    "    ])\n",
    "\n",
    "    # Compile the model\n",
    "    mlp_model.compile(optimizer=tf.keras.optimizers.Adam(learning_rate = 0.001), loss='mae')\n",
    "\n",
    "    # Print model summary\n",
    "    mlp_model.summary()\n",
    "\n",
    "    # Train the model\n",
    "    history = mlp_model.fit(X_train, Y_train, epochs=300, batch_size=32, validation_split=0.2)\n",
    "\n",
    "    # Evaluate model performance\n",
    "    return mlp_model\n"
   ]
  },
  {
   "cell_type": "code",
   "execution_count": null,
   "metadata": {},
   "outputs": [],
   "source": [
    "def create_rf():\n",
    "    # Initialize Random Forest regressor\n",
    "    rf_model = RandomForestRegressor(n_estimators=100, random_state=42)\n",
    "\n",
    "    # Train the model\n",
    "    rf_model.fit(X_train, Y_train)\n",
    "    return rf_model\n",
    "\n",
    "\n"
   ]
  },
  {
   "cell_type": "code",
   "execution_count": null,
   "metadata": {},
   "outputs": [],
   "source": [
    "from sklearn.linear_model import Ridge\n",
    "def create_ridge():\n",
    "    model = Ridge(alpha=100)\n",
    "    model.fit(X_train,Y_train)\n",
    "    return model"
   ]
  },
  {
   "cell_type": "code",
   "execution_count": null,
   "metadata": {},
   "outputs": [],
   "source": [
    "from sklearn.svm import SVR\n",
    "def create_SVM():\n",
    "    # Initialize SVM regressor\n",
    "    svm_model = SVR(kernel='rbf', C=10000, gamma='scale')\n",
    "\n",
    "    # Train the model\n",
    "    svm_model.fit(X_train, Y_train)\n",
    "    return svm_model\n"
   ]
  },
  {
   "cell_type": "code",
   "execution_count": null,
   "metadata": {},
   "outputs": [],
   "source": [
    "import lightgbm as lgb\n",
    "def create_lightgbm():\n",
    "    params = { \n",
    "    'objective': 'regression', \n",
    "    'metric': 'rmse', \n",
    "    'boosting_type': 'gbdt', \n",
    "    'num_leaves': 31, \n",
    "    'learning_rate': 0.05, \n",
    "    'feature_fraction': 0.9, \n",
    "    }\n",
    "    train_data = lgb.Dataset(X_train,label=Y_train)\n",
    "    num_round = 100\n",
    "    bst = lgb.train(params, train_data, num_round) \n",
    "    from sklearn.metrics import mean_squared_error as mse \n",
    "    from lightgbm import LGBMRegressor \n",
    "    \n",
    "    # Create an instance of the LightGBM Regressor with the RMSE metric. \n",
    "    model = LGBMRegressor(metric='rmse') \n",
    "    \n",
    "    # Train the model using the training data. \n",
    "    model.fit(X_train, Y_train) \n",
    "\n",
    "    res = model.predict(X_test) \n",
    "    return model\n"
   ]
  },
  {
   "cell_type": "code",
   "execution_count": null,
   "metadata": {},
   "outputs": [],
   "source": [
    "# gru = create_GRU()\n",
    "# lasso = create_lasso()\n",
    "# lstm = create_LSTM()\n",
    "mlp = create_mlp()\n",
    "rf = create_rf()\n",
    "lightgbm = create_lightgbm()\n",
    "svm = create_SVM()\n",
    "\n",
    "# ridge = create_ridge()\n",
    "# svm = create_SVM()"
   ]
  },
  {
   "cell_type": "code",
   "execution_count": null,
   "metadata": {},
   "outputs": [],
   "source": [
    "import deepforest\n",
    "from deepforest import CascadeForestRegressor"
   ]
  },
  {
   "cell_type": "code",
   "execution_count": null,
   "metadata": {},
   "outputs": [],
   "source": [
    "from tensorflow.keras.layers import concatenate\n",
    "\n",
    "\n",
    "# gruPredict = gru.predict(X_train)\n",
    "# lassoPredict = lasso.predict(X_train)\n",
    "# lstmPredict = lstm.predict(X_train)\n",
    "mlpPredict = mlp.predict(X_train)\n",
    "lightgbmPredict = lightgbm.predict(X_train)\n",
    "# ridgePredict = ridge.predict(X_train)\n",
    "# svmPredict = svm.predict(X_train)\n",
    "# rfPredict = rf.predict(X_train)\n",
    "# lassoPredict.resize(671,1)\n",
    "mlpPredict.resize(743,1)\n",
    "lightgbmPredict.resize(743,1)\n",
    "# svmPredict.resize(671,1)\n",
    "trainData = concatenate([mlpPredict,lightgbmPredict])"
   ]
  },
  {
   "cell_type": "code",
   "execution_count": null,
   "metadata": {},
   "outputs": [],
   "source": [
    "model = CascadeForestRegressor(n_estimators = 50, criterion='squared_error', backend='sklearn')"
   ]
  },
  {
   "cell_type": "code",
   "execution_count": null,
   "metadata": {},
   "outputs": [],
   "source": [
    "import numpy as np"
   ]
  },
  {
   "cell_type": "code",
   "execution_count": null,
   "metadata": {},
   "outputs": [],
   "source": [
    "np.__version__"
   ]
  },
  {
   "cell_type": "code",
   "execution_count": null,
   "metadata": {},
   "outputs": [],
   "source": []
  },
  {
   "cell_type": "code",
   "execution_count": null,
   "metadata": {},
   "outputs": [],
   "source": [
    "model.fit(trainData, Y_train)"
   ]
  },
  {
   "cell_type": "code",
   "execution_count": null,
   "metadata": {},
   "outputs": [],
   "source": [
    "# gruPredictTest = gru.predict(X_test)\n",
    "# lassoPredictTest = lasso.predict(X_test)\n",
    "# lstmPredictTest = lstm.predict(X_test)\n",
    "mlpPredictTest = mlp.predict(X_test)\n",
    "lightgbmPredictTest = lightgbm.predict(X_test)\n",
    "# ridgePredictTest = ridge.predict(X_test)\n",
    "# svmPredictTest = svm.predict(X_test)\n",
    "# svmPredictTest.resize(168,1)\n",
    "# svmPredictTest.resize(96,1)\n",
    "# lassoPredictTest.resize(168,1)\n",
    "testData = concatenate([mlpPredictTest, lightgbmPredictTest])"
   ]
  },
  {
   "cell_type": "code",
   "execution_count": null,
   "metadata": {},
   "outputs": [],
   "source": [
    "res = model.predict(testData)\n",
    "print(res)"
   ]
  },
  {
   "cell_type": "code",
   "execution_count": null,
   "metadata": {},
   "outputs": [],
   "source": [
    "from sklearn.metrics import r2_score \n",
    "r2 = r2_score(Y_test, res) \n",
    "print(r2)"
   ]
  },
  {
   "cell_type": "code",
   "execution_count": null,
   "metadata": {},
   "outputs": [],
   "source": [
    "from sklearn.metrics import mean_absolute_error\n",
    "mae = mean_absolute_error(Y_test,res)\n",
    "print(mae)"
   ]
  },
  {
   "cell_type": "code",
   "execution_count": null,
   "metadata": {},
   "outputs": [],
   "source": [
    "from sklearn.metrics import mean_absolute_percentage_error\n",
    "mape = mean_absolute_percentage_error(Y_test,res)\n",
    "print(mape)"
   ]
  },
  {
   "cell_type": "code",
   "execution_count": null,
   "metadata": {},
   "outputs": [],
   "source": [
    "from sklearn.metrics import root_mean_squared_error\n",
    "rmse = root_mean_squared_error(Y_test,res)\n",
    "print(rmse)"
   ]
  },
  {
   "cell_type": "code",
   "execution_count": null,
   "metadata": {},
   "outputs": [],
   "source": [
    "import shap\n",
    "print(testData.numpy())\n",
    "explainer = shap.Explainer(model)\n",
    "shap_values = explainer.shap_values(testData.numpy())\n",
    "\n"
   ]
  },
  {
   "cell_type": "code",
   "execution_count": null,
   "metadata": {},
   "outputs": [],
   "source": [
    "print(model.get_layer_feature_importances(0))"
   ]
  }
 ],
 "metadata": {
  "kernelspec": {
   "display_name": "Python 3",
   "language": "python",
   "name": "python3"
  },
  "language_info": {
   "codemirror_mode": {
    "name": "ipython",
    "version": 3
   },
   "file_extension": ".py",
   "mimetype": "text/x-python",
   "name": "python",
   "nbconvert_exporter": "python",
   "pygments_lexer": "ipython3",
   "version": "3.9.13"
  }
 },
 "nbformat": 4,
 "nbformat_minor": 2
}
