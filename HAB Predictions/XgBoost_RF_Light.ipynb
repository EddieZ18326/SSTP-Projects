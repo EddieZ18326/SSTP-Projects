{
 "cells": [
  {
   "cell_type": "code",
   "execution_count": null,
   "metadata": {},
   "outputs": [],
   "source": [
    "import numpy as np\n",
    "import matplotlib\n",
    "import pandas as pd\n",
    "import tensorflow as tf\n",
    "\n",
    "dataset = pd.read_csv('/Users/wzhang/Downloads/lake_erie_habs_W4_6_8_9_12_13_16_2013-2020.xlsx - HAB_data (1).csv')\n",
    "\n",
    "train = dataset.iloc[:743,:]\n",
    "test = dataset.iloc[743:,:]\n",
    "print(train)\n",
    "print(test)\n",
    "X_train = pd.DataFrame(train.iloc[:,4:15].values)\n",
    "Y_train = train.iloc[:,16:].values\n",
    "print(X_train.shape)\n",
    "print(Y_train.shape)\n",
    "X_test = pd.DataFrame(test.iloc[:,4:15].values)\n",
    "Y_test = test.iloc[:,16:].values\n",
    "print(X_test.shape)\n",
    "print(Y_test.shape)\n",
    "from sklearn.preprocessing import MinMaxScaler\n",
    "scaler = MinMaxScaler()\n",
    "X_train = scaler.fit_transform(X_train)\n",
    "X_test = scaler.transform(X_test)\n",
    "\n"
   ]
  },
  {
   "cell_type": "code",
   "execution_count": null,
   "metadata": {},
   "outputs": [],
   "source": [
    "from keras.models import Sequential, Model\n",
    "from tensorflow.keras.layers import LSTM, Dropout, Dense, BatchNormalization, GRU, LayerNormalization, MultiHeadAttention,TimeDistributed, Input, Flatten\n",
    "from sklearn.ensemble import RandomForestRegressor"
   ]
  },
  {
   "cell_type": "code",
   "execution_count": null,
   "metadata": {},
   "outputs": [],
   "source": [
    "def create_rf():\n",
    "    # Initialize Random Forest regressor\n",
    "    rf_model = RandomForestRegressor(n_estimators=100, random_state=42)\n",
    "\n",
    "    # Train the model\n",
    "    rf_model.fit(X_train, Y_train)\n",
    "    return rf_model\n",
    "\n",
    "\n"
   ]
  },
  {
   "cell_type": "code",
   "execution_count": null,
   "metadata": {},
   "outputs": [],
   "source": [
    "import lightgbm as lgb\n",
    "def create_lightgbm():\n",
    "    params = { \n",
    "    'objective': 'regression', \n",
    "    'metric': 'rmse', \n",
    "    'boosting_type': 'gbdt', \n",
    "    'num_leaves': 31, \n",
    "    'learning_rate': 0.05, \n",
    "    'feature_fraction': 0.9, \n",
    "    }\n",
    "    train_data = lgb.Dataset(X_train,label=Y_train)\n",
    "    num_round = 100\n",
    "    bst = lgb.train(params, train_data, num_round) \n",
    "    from sklearn.metrics import mean_squared_error as mse \n",
    "    from lightgbm import LGBMRegressor \n",
    "    \n",
    "    # Create an instance of the LightGBM Regressor with the RMSE metric. \n",
    "    model = LGBMRegressor(metric='rmse') \n",
    "    \n",
    "    # Train the model using the training data. \n",
    "    model.fit(X_train, Y_train) \n",
    "\n",
    "    res = model.predict(X_test) \n",
    "    return model\n"
   ]
  },
  {
   "cell_type": "code",
   "execution_count": null,
   "metadata": {},
   "outputs": [],
   "source": [
    "rf = create_rf()\n",
    "lightgbm = create_lightgbm()\n",
    "\n",
    "# ridge = create_ridge()\n",
    "# svm = create_SVM()"
   ]
  },
  {
   "cell_type": "code",
   "execution_count": null,
   "metadata": {},
   "outputs": [],
   "source": [
    "from tensorflow.keras.layers import concatenate\n",
    "\n",
    "\n",
    "# gruPredict = gru.predict(X_train)\n",
    "# lassoPredict = lasso.predict(X_train)\n",
    "# lstmPredict = lstm.predict(X_train)\n",
    "rfPredict = rf.predict(X_train)\n",
    "lightgbmPredict = lightgbm.predict(X_train)\n",
    "# ridgePredict = ridge.predict(X_train)\n",
    "# svmPredict = svm.predict(X_train)\n",
    "# rfPredict = rf.predict(X_train)\n",
    "# lassoPredict.resize(671,1)\n",
    "rfPredict.resize(743,1)\n",
    "lightgbmPredict.resize(743,1)\n",
    "# svmPredict.resize(671,1)\n",
    "trainData = concatenate([rfPredict,lightgbmPredict])"
   ]
  },
  {
   "cell_type": "code",
   "execution_count": null,
   "metadata": {},
   "outputs": [],
   "source": [
    "import xgboost as xgb\n",
    "\n",
    "# Create regression matrices\n",
    "dtrain_reg = xgb.DMatrix(trainData, Y_train, enable_categorical=True)"
   ]
  },
  {
   "cell_type": "code",
   "execution_count": null,
   "metadata": {},
   "outputs": [],
   "source": [
    "params = {\"objective\": \"reg:squarederror\", \"tree_method\": \"gpu_hist\"}\n",
    "n = 100\n",
    "model = xgb.train(\n",
    "   params=params,\n",
    "   dtrain=dtrain_reg,\n",
    "   num_boost_round=n,\n",
    ")"
   ]
  },
  {
   "cell_type": "code",
   "execution_count": null,
   "metadata": {},
   "outputs": [],
   "source": [
    "# gruPredictTest = gru.predict(X_test)\n",
    "# lassoPredictTest = lasso.predict(X_test)\n",
    "# lstmPredictTest = lstm.predict(X_test)\n",
    "rfPredictTest = rf.predict(X_test)\n",
    "lightgbmPredictTest = lightgbm.predict(X_test)\n",
    "# ridgePredictTest = ridge.predict(X_test)\n",
    "# svmPredictTest = svm.predict(X_test)\n",
    "# svmPredictTest.resize(168,1)\n",
    "# svmPredictTest.resize(96,1)\n",
    "# lassoPredictTest.resize(168,1)\n",
    "rfPredictTest.resize(96,1)\n",
    "lightgbmPredictTest.resize(96,1)\n",
    "testData = concatenate([rfPredictTest, lightgbmPredictTest])"
   ]
  },
  {
   "cell_type": "code",
   "execution_count": null,
   "metadata": {},
   "outputs": [],
   "source": [
    "dtest_reg = xgb.DMatrix(testData, Y_test, enable_categorical=True)"
   ]
  },
  {
   "cell_type": "code",
   "execution_count": null,
   "metadata": {},
   "outputs": [],
   "source": [
    "res = model.predict(dtest_reg)\n",
    "print(res)"
   ]
  },
  {
   "cell_type": "code",
   "execution_count": null,
   "metadata": {},
   "outputs": [],
   "source": [
    "from sklearn.metrics import r2_score \n",
    "r2 = r2_score(Y_test, res) \n",
    "print(r2)"
   ]
  },
  {
   "cell_type": "code",
   "execution_count": null,
   "metadata": {},
   "outputs": [],
   "source": [
    "from sklearn.metrics import mean_absolute_error\n",
    "mae = mean_absolute_error(Y_test,res)\n",
    "print(mae)"
   ]
  },
  {
   "cell_type": "code",
   "execution_count": null,
   "metadata": {},
   "outputs": [],
   "source": [
    "from sklearn.metrics import mean_absolute_percentage_error\n",
    "mape = mean_absolute_percentage_error(Y_test,res)\n",
    "print(mape)"
   ]
  },
  {
   "cell_type": "code",
   "execution_count": null,
   "metadata": {},
   "outputs": [],
   "source": [
    "from sklearn.metrics import mean_squared_error\n",
    "rmse = mean_squared_error(Y_test,res,squared=False)\n",
    "print(rmse)"
   ]
  }
 ],
 "metadata": {
  "language_info": {
   "name": "python"
  }
 },
 "nbformat": 4,
 "nbformat_minor": 2
}
