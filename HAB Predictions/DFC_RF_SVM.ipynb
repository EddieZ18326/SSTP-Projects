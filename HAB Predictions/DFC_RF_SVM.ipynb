{
 "cells": [
  {
   "cell_type": "code",
   "execution_count": 1,
   "metadata": {},
   "outputs": [
    {
     "name": "stderr",
     "output_type": "stream",
     "text": [
      "2024-07-01 14:05:10.479166: I tensorflow/core/platform/cpu_feature_guard.cc:210] This TensorFlow binary is optimized to use available CPU instructions in performance-critical operations.\n",
      "To enable the following instructions: AVX2 FMA, in other operations, rebuild TensorFlow with the appropriate compiler flags.\n"
     ]
    },
    {
     "name": "stdout",
     "output_type": "stream",
     "text": [
      "          Date  Site  Latitude (decimal deg)  Longitude (decimal deg)  \\\n",
      "0    5/29/2013   WE6                 41.7134                 -83.3804   \n",
      "1    5/29/2013   WE8                 41.8343                 -83.3633   \n",
      "2    5/29/2013   WE4                 41.8267                 -83.1930   \n",
      "3    6/10/2013   WE6                 41.7144                 -83.3805   \n",
      "4    6/10/2013   WE8                 41.8353                 -83.3631   \n",
      "..         ...   ...                     ...                      ...   \n",
      "738  10/7/2019  WE16                 41.6599                 -83.1467   \n",
      "739  10/7/2019  WE13                 41.7428                 -83.1354   \n",
      "740  10/7/2019  WE12                 41.7023                 -83.2639   \n",
      "741  10/7/2019   WE4                 41.8270                 -83.1949   \n",
      "742  6/16/2020   WE6                 41.7054                 -83.3864   \n",
      "\n",
      "     Secchi Depth (m)  CTD Temperature (°C)  \\\n",
      "0                1.60                  18.5   \n",
      "1                1.00                  20.3   \n",
      "2                1.50                  19.8   \n",
      "3                0.50                  20.7   \n",
      "4                0.70                  23.5   \n",
      "..                ...                   ...   \n",
      "738              1.00                  18.2   \n",
      "739              1.25                  18.2   \n",
      "740              1.25                  18.5   \n",
      "741              1.50                  17.2   \n",
      "742              0.20                  20.3   \n",
      "\n",
      "     CTD Specific Conductivity (µS/cm)  CTD Dissolved Oxygen (mg/L)  \\\n",
      "0                                391.3                         7.60   \n",
      "1                                379.8                         7.60   \n",
      "2                                296.2                         7.60   \n",
      "3                                341.2                         7.60   \n",
      "4                                301.3                         7.50   \n",
      "..                                 ...                          ...   \n",
      "738                              304.3                         6.50   \n",
      "739                              265.1                         7.50   \n",
      "740                              251.6                         7.20   \n",
      "741                              221.3                         7.50   \n",
      "742                              275.4                         7.78   \n",
      "\n",
      "     Turbidity (NTU)  Total Phosphorus (µg P/L)  \\\n",
      "0               8.44                      48.51   \n",
      "1               9.98                      37.85   \n",
      "2               4.36                      15.58   \n",
      "3              21.50                      58.18   \n",
      "4              15.70                      48.33   \n",
      "..               ...                        ...   \n",
      "738             9.96                      45.09   \n",
      "739             3.66                      26.28   \n",
      "740            10.60                      31.56   \n",
      "741             4.04                      13.42   \n",
      "742            75.20                      29.78   \n",
      "\n",
      "     Total Dissolved Phosphorus (µg P/L)  Ammonia (µg N/L)  \\\n",
      "0                                  33.01             62.95   \n",
      "1                                  18.68             40.25   \n",
      "2                                   4.70             13.07   \n",
      "3                                   8.66              7.34   \n",
      "4                                  15.90             23.02   \n",
      "..                                   ...               ...   \n",
      "738                                29.05             39.64   \n",
      "739                                 8.33              7.28   \n",
      "740                                 9.42              6.07   \n",
      "741                                 5.34             25.19   \n",
      "742                                 5.76             18.23   \n",
      "\n",
      "     Nitrate + Nitrite (mg N/L)  Particulate Organic Carbon (mg/L)  \\\n",
      "0                         2.420                               0.42   \n",
      "1                         2.110                               0.45   \n",
      "2                         0.900                               0.32   \n",
      "3                         1.340                               1.22   \n",
      "4                         1.060                               0.69   \n",
      "..                          ...                                ...   \n",
      "738                       0.378                               0.55   \n",
      "739                       0.321                               0.63   \n",
      "740                       0.161                               0.84   \n",
      "741                       0.245                               0.26   \n",
      "742                       1.047                               0.41   \n",
      "\n",
      "     Particulate Organic Nitrogen (mg/L)  Total Suspended Solids (mg/L)  \\\n",
      "0                                   0.06                          12.80   \n",
      "1                                   0.07                          10.07   \n",
      "2                                   0.06                           5.47   \n",
      "3                                   0.18                          24.50   \n",
      "4                                   0.10                          17.77   \n",
      "..                                   ...                            ...   \n",
      "738                                 0.07                           9.72   \n",
      "739                                 0.10                           6.47   \n",
      "740                                 0.14                          13.20   \n",
      "741                                 0.06                           4.88   \n",
      "742                                 0.08                           5.48   \n",
      "\n",
      "     Extracted Chlorophyll a (µg/L)  \n",
      "0                              2.15  \n",
      "1                              3.65  \n",
      "2                              4.34  \n",
      "3                             23.39  \n",
      "4                              5.30  \n",
      "..                              ...  \n",
      "738                            6.29  \n",
      "739                           19.70  \n",
      "740                           22.88  \n",
      "741                            2.06  \n",
      "742                            1.46  \n",
      "\n",
      "[743 rows x 17 columns]\n",
      "          Date  Site  Latitude (decimal deg)  Longitude (decimal deg)  \\\n",
      "743  6/16/2020   WE8                 41.8349                 -83.3587   \n",
      "744  6/16/2020   WE9                 41.7176                 -83.4225   \n",
      "745  6/16/2020  WE12                 41.7026                 -83.2527   \n",
      "746  6/29/2020   WE6                 41.7057                 -83.3839   \n",
      "747  6/29/2020   WE8                 41.8343                 -83.3579   \n",
      "..         ...   ...                     ...                      ...   \n",
      "834  10/5/2020   WE9                 41.7176                 -83.4239   \n",
      "835  10/5/2020  WE16                 41.6599                 -83.1468   \n",
      "836  10/5/2020  WE13                 41.7436                 -83.1526   \n",
      "837  10/5/2020  WE12                 41.7040                 -83.2552   \n",
      "838  10/5/2020   WE4                 41.8267                 -83.1947   \n",
      "\n",
      "     Secchi Depth (m)  CTD Temperature (°C)  \\\n",
      "743               0.2                  20.6   \n",
      "744               0.2                  21.7   \n",
      "745               0.2                  20.2   \n",
      "746               1.1                  24.9   \n",
      "747               1.6                  24.3   \n",
      "..                ...                   ...   \n",
      "834               0.8                  14.4   \n",
      "835               1.8                  15.4   \n",
      "836               1.8                  15.7   \n",
      "837               1.0                  15.2   \n",
      "838               3.5                  15.7   \n",
      "\n",
      "     CTD Specific Conductivity (µS/cm)  CTD Dissolved Oxygen (mg/L)  \\\n",
      "743                              309.0                         7.68   \n",
      "744                              442.4                         7.02   \n",
      "745                              259.3                         7.69   \n",
      "746                              353.0                         8.68   \n",
      "747                              301.0                         9.64   \n",
      "..                                 ...                          ...   \n",
      "834                              313.1                         9.00   \n",
      "835                              249.6                         8.90   \n",
      "836                              221.3                         8.97   \n",
      "837                              258.4                         9.07   \n",
      "838                              226.4                         8.54   \n",
      "\n",
      "     Turbidity (NTU)  Total Phosphorus (µg P/L)  \\\n",
      "743            57.20                      22.70   \n",
      "744            41.30                      52.74   \n",
      "745            35.80                      90.23   \n",
      "746             6.80                      31.78   \n",
      "747             5.38                      26.70   \n",
      "..               ...                        ...   \n",
      "834             9.38                      47.68   \n",
      "835             3.48                      22.20   \n",
      "836             2.30                      14.30   \n",
      "837             7.24                      28.96   \n",
      "838             1.27                      13.01   \n",
      "\n",
      "     Total Dissolved Phosphorus (µg P/L)  Ammonia (µg N/L)  \\\n",
      "743                                 7.86             36.56   \n",
      "744                                13.00             59.00   \n",
      "745                                25.36             45.80   \n",
      "746                                 7.23             28.74   \n",
      "747                                 8.87             44.73   \n",
      "..                                   ...               ...   \n",
      "834                                18.77             20.71   \n",
      "835                                 8.86             20.53   \n",
      "836                                 5.21             12.07   \n",
      "837                                 9.31              2.89   \n",
      "838                                 5.44             23.46   \n",
      "\n",
      "     Nitrate + Nitrite (mg N/L)  Particulate Organic Carbon (mg/L)  \\\n",
      "743                       0.707                               0.56   \n",
      "744                       0.701                               1.97   \n",
      "745                       1.870                               0.58   \n",
      "746                       0.914                               0.52   \n",
      "747                       0.807                               0.66   \n",
      "..                          ...                                ...   \n",
      "834                       0.069                               0.98   \n",
      "835                       0.105                               0.46   \n",
      "836                       0.249                               0.27   \n",
      "837                       0.002                               0.83   \n",
      "838                       0.271                               0.19   \n",
      "\n",
      "     Particulate Organic Nitrogen (mg/L)  Total Suspended Solids (mg/L)  \\\n",
      "743                                 0.15                           2.24   \n",
      "744                                 0.42                           8.00   \n",
      "745                                 0.07                           9.48   \n",
      "746                                 0.11                           5.48   \n",
      "747                                 0.15                           2.47   \n",
      "..                                   ...                            ...   \n",
      "834                                 0.17                           9.56   \n",
      "835                                 0.09                           6.13   \n",
      "836                                 0.04                           3.56   \n",
      "837                                 0.09                           8.39   \n",
      "838                                 0.02                           1.76   \n",
      "\n",
      "     Extracted Chlorophyll a (µg/L)  \n",
      "743                           29.90  \n",
      "744                           29.90  \n",
      "745                            1.53  \n",
      "746                           12.71  \n",
      "747                           21.54  \n",
      "..                              ...  \n",
      "834                            9.98  \n",
      "835                            6.36  \n",
      "836                            3.91  \n",
      "837                            9.65  \n",
      "838                            1.74  \n",
      "\n",
      "[96 rows x 17 columns]\n",
      "(743, 11)\n",
      "(743, 1)\n",
      "(96, 11)\n",
      "(96, 1)\n"
     ]
    }
   ],
   "source": [
    "import numpy as np\n",
    "import matplotlib\n",
    "import pandas as pd\n",
    "import tensorflow as tf\n",
    "\n",
    "dataset = pd.read_csv('/Users/wzhang/Downloads/lake_erie_habs_W4_6_8_9_12_13_16_2013-2020.xlsx - HAB_data (1).csv')\n",
    "\n",
    "train = dataset.iloc[:743,:]\n",
    "test = dataset.iloc[743:,:]\n",
    "print(train)\n",
    "print(test)\n",
    "X_train = pd.DataFrame(train.iloc[:,4:15].values)\n",
    "Y_train = train.iloc[:,16:].values\n",
    "print(X_train.shape)\n",
    "print(Y_train.shape)\n",
    "X_test = pd.DataFrame(test.iloc[:,4:15].values)\n",
    "Y_test = test.iloc[:,16:].values\n",
    "print(X_test.shape)\n",
    "print(Y_test.shape)\n",
    "from sklearn.preprocessing import MinMaxScaler\n",
    "scaler = MinMaxScaler()\n",
    "X_train = scaler.fit_transform(X_train)\n",
    "X_test = scaler.transform(X_test)\n",
    "\n"
   ]
  },
  {
   "cell_type": "code",
   "execution_count": 2,
   "metadata": {},
   "outputs": [],
   "source": [
    "from keras.models import Sequential, Model\n",
    "from tensorflow.keras.layers import LSTM, Dropout, Dense, BatchNormalization, GRU, LayerNormalization, MultiHeadAttention,TimeDistributed, Input, Flatten\n",
    "from sklearn.ensemble import RandomForestRegressor"
   ]
  },
  {
   "cell_type": "code",
   "execution_count": 3,
   "metadata": {},
   "outputs": [],
   "source": [
    "def create_rf():\n",
    "    # Initialize Random Forest regressor\n",
    "    rf_model = RandomForestRegressor(n_estimators=100, random_state=42)\n",
    "\n",
    "    # Train the model\n",
    "    rf_model.fit(X_train, Y_train)\n",
    "    return rf_model\n",
    "\n",
    "\n"
   ]
  },
  {
   "cell_type": "code",
   "execution_count": 4,
   "metadata": {},
   "outputs": [],
   "source": [
    "from sklearn.svm import SVR\n",
    "def create_SVM():\n",
    "    # Initialize SVM regressor\n",
    "    svm_model = SVR(kernel='rbf', C=10000, gamma='scale')\n",
    "\n",
    "    # Train the model\n",
    "    svm_model.fit(X_train, Y_train)\n",
    "    return svm_model\n"
   ]
  },
  {
   "cell_type": "code",
   "execution_count": 5,
   "metadata": {},
   "outputs": [
    {
     "name": "stderr",
     "output_type": "stream",
     "text": [
      "/Library/Frameworks/Python.framework/Versions/3.9/lib/python3.9/site-packages/sklearn/base.py:1473: DataConversionWarning: A column-vector y was passed when a 1d array was expected. Please change the shape of y to (n_samples,), for example using ravel().\n",
      "  return fit_method(estimator, *args, **kwargs)\n",
      "/Library/Frameworks/Python.framework/Versions/3.9/lib/python3.9/site-packages/sklearn/utils/validation.py:1310: DataConversionWarning: A column-vector y was passed when a 1d array was expected. Please change the shape of y to (n_samples, ), for example using ravel().\n",
      "  y = column_or_1d(y, warn=True)\n"
     ]
    }
   ],
   "source": [
    "rf = create_rf()\n",
    "svm = create_SVM()\n",
    "\n",
    "# ridge = create_ridge()\n",
    "# svm = create_SVM()"
   ]
  },
  {
   "cell_type": "code",
   "execution_count": 6,
   "metadata": {},
   "outputs": [],
   "source": [
    "import deepforest\n",
    "from deepforest import CascadeForestRegressor"
   ]
  },
  {
   "cell_type": "code",
   "execution_count": 7,
   "metadata": {},
   "outputs": [],
   "source": [
    "from tensorflow.keras.layers import concatenate\n",
    "\n",
    "\n",
    "# gruPredict = gru.predict(X_train)\n",
    "# lassoPredict = lasso.predict(X_train)\n",
    "# lstmPredict = lstm.predict(X_train)\n",
    "rfPredict = rf.predict(X_train)\n",
    "svmPredict = svm.predict(X_train)\n",
    "# ridgePredict = ridge.predict(X_train)\n",
    "# svmPredict = svm.predict(X_train)\n",
    "# rfPredict = rf.predict(X_train)\n",
    "# lassoPredict.resize(671,1)\n",
    "rfPredict.resize(743,1)\n",
    "svmPredict.resize(743,1)\n",
    "# svmPredict.resize(671,1)\n",
    "trainData = concatenate([rfPredict,svmPredict])"
   ]
  },
  {
   "cell_type": "code",
   "execution_count": 8,
   "metadata": {},
   "outputs": [],
   "source": [
    "model = CascadeForestRegressor(n_estimators = 50, criterion='squared_error', backend='sklearn')"
   ]
  },
  {
   "cell_type": "code",
   "execution_count": 9,
   "metadata": {},
   "outputs": [
    {
     "name": "stderr",
     "output_type": "stream",
     "text": [
      "/Library/Frameworks/Python.framework/Versions/3.9/lib/python3.9/site-packages/sklearn/utils/validation.py:1310: DataConversionWarning: A column-vector y was passed when a 1d array was expected. Please change the shape of y to (n_samples, ), for example using ravel().\n",
      "  y = column_or_1d(y, warn=True)\n"
     ]
    },
    {
     "name": "stdout",
     "output_type": "stream",
     "text": [
      "[2024-07-01 19:05:14.788] Start to fit the model:\n",
      "[2024-07-01 19:05:14.788] Fitting cascade layer = 0 \n",
      "[2024-07-01 19:05:34.781] layer = 0  | Val MSE = 162.58667 | Elapsed = 19.993 s\n",
      "[2024-07-01 19:05:34.858] Fitting cascade layer = 1 \n",
      "[2024-07-01 19:09:11.991] layer = 1  | Val MSE = 174.28390 | Elapsed = 217.134 s\n",
      "[2024-07-01 19:09:11.991] Early stopping counter: 1 out of 2\n",
      "[2024-07-01 19:09:12.071] Fitting cascade layer = 2 \n",
      "[2024-07-01 19:12:45.614] layer = 2  | Val MSE = 198.26931 | Elapsed = 213.544 s\n",
      "[2024-07-01 19:12:45.615] Early stopping counter: 2 out of 2\n",
      "[2024-07-01 19:12:45.615] Handling early stopping\n",
      "[2024-07-01 19:12:45.699] The optimal number of layers: 1\n"
     ]
    }
   ],
   "source": [
    "model.fit(trainData, Y_train)"
   ]
  },
  {
   "cell_type": "code",
   "execution_count": 10,
   "metadata": {},
   "outputs": [],
   "source": [
    "# gruPredictTest = gru.predict(X_test)\n",
    "# lassoPredictTest = lasso.predict(X_test)\n",
    "# lstmPredictTest = lstm.predict(X_test)\n",
    "rfPredictTest = rf.predict(X_test)\n",
    "svmPredictTest = svm.predict(X_test)\n",
    "# ridgePredictTest = ridge.predict(X_test)\n",
    "# svmPredictTest = svm.predict(X_test)\n",
    "# svmPredictTest.resize(168,1)\n",
    "# svmPredictTest.resize(96,1)\n",
    "# lassoPredictTest.resize(168,1)\n",
    "rfPredictTest.resize(96,1)\n",
    "svmPredictTest.resize(96,1)\n",
    "testData = concatenate([rfPredictTest, svmPredictTest])"
   ]
  },
  {
   "cell_type": "code",
   "execution_count": 11,
   "metadata": {},
   "outputs": [
    {
     "name": "stdout",
     "output_type": "stream",
     "text": [
      "[2024-07-01 19:12:45.987] Start to evalute the model:\n",
      "[2024-07-01 19:12:45.988] Evaluating cascade layer = 0 \n",
      "[[ 7.589066  ]\n",
      " [23.17398456]\n",
      " [ 4.149265  ]\n",
      " [ 5.08138   ]\n",
      " [ 8.044208  ]\n",
      " [29.769974  ]\n",
      " [ 8.0844477 ]\n",
      " [ 8.14984229]\n",
      " [11.800751  ]\n",
      " [32.67889701]\n",
      " [ 3.931905  ]\n",
      " [33.51409206]\n",
      " [11.559355  ]\n",
      " [31.619631  ]\n",
      " [ 4.87463654]\n",
      " [49.417523  ]\n",
      " [10.06360609]\n",
      " [47.343788  ]\n",
      " [ 9.23775269]\n",
      " [39.634136  ]\n",
      " [11.50708433]\n",
      " [54.969759  ]\n",
      " [ 5.38652   ]\n",
      " [12.55478697]\n",
      " [ 9.278308  ]\n",
      " [13.89777233]\n",
      " [61.669592  ]\n",
      " [22.466334  ]\n",
      " [58.663224  ]\n",
      " [ 9.602214  ]\n",
      " [16.449434  ]\n",
      " [39.241209  ]\n",
      " [ 2.581229  ]\n",
      " [41.610668  ]\n",
      " [22.003593  ]\n",
      " [43.071946  ]\n",
      " [14.66718478]\n",
      " [12.00653792]\n",
      " [37.9004006 ]\n",
      " [ 4.21046   ]\n",
      " [45.415339  ]\n",
      " [26.723628  ]\n",
      " [72.7128264 ]\n",
      " [25.90649823]\n",
      " [19.195653  ]\n",
      " [26.713118  ]\n",
      " [ 6.008768  ]\n",
      " [45.897296  ]\n",
      " [48.173154  ]\n",
      " [73.020036  ]\n",
      " [21.435933  ]\n",
      " [10.201799  ]\n",
      " [13.709709  ]\n",
      " [ 9.7236156 ]\n",
      " [25.162924  ]\n",
      " [33.27332949]\n",
      " [51.673442  ]\n",
      " [16.269895  ]\n",
      " [ 8.308171  ]\n",
      " [25.356499  ]\n",
      " [ 5.327363  ]\n",
      " [46.075193  ]\n",
      " [13.57410279]\n",
      " [41.076466  ]\n",
      " [14.30020248]\n",
      " [ 8.154444  ]\n",
      " [17.45777   ]\n",
      " [ 3.047253  ]\n",
      " [38.176493  ]\n",
      " [26.032864  ]\n",
      " [24.446692  ]\n",
      " [17.479583  ]\n",
      " [13.9759674 ]\n",
      " [24.97639   ]\n",
      " [ 3.14771415]\n",
      " [35.082954  ]\n",
      " [24.66673837]\n",
      " [39.367968  ]\n",
      " [15.90706968]\n",
      " [21.4497165 ]\n",
      " [25.303194  ]\n",
      " [ 3.29245   ]\n",
      " [12.080105  ]\n",
      " [16.43578   ]\n",
      " [17.967415  ]\n",
      " [ 7.923022  ]\n",
      " [ 8.841991  ]\n",
      " [ 9.57799634]\n",
      " [ 3.928925  ]\n",
      " [11.451423  ]\n",
      " [ 4.31851877]\n",
      " [ 9.58740886]\n",
      " [ 4.336871  ]\n",
      " [ 2.190379  ]\n",
      " [ 9.115319  ]\n",
      " [ 1.562635  ]]\n"
     ]
    }
   ],
   "source": [
    "res = model.predict(testData)\n",
    "print(res)"
   ]
  },
  {
   "cell_type": "code",
   "execution_count": 12,
   "metadata": {},
   "outputs": [
    {
     "name": "stdout",
     "output_type": "stream",
     "text": [
      "0.8351806146547425\n"
     ]
    }
   ],
   "source": [
    "from sklearn.metrics import r2_score \n",
    "r2 = r2_score(Y_test, res) \n",
    "print(r2)"
   ]
  },
  {
   "cell_type": "code",
   "execution_count": 13,
   "metadata": {},
   "outputs": [
    {
     "name": "stdout",
     "output_type": "stream",
     "text": [
      "4.944228898813655\n"
     ]
    }
   ],
   "source": [
    "from sklearn.metrics import mean_absolute_error\n",
    "mae = mean_absolute_error(Y_test,res)\n",
    "print(mae)"
   ]
  },
  {
   "cell_type": "code",
   "execution_count": 14,
   "metadata": {},
   "outputs": [
    {
     "name": "stdout",
     "output_type": "stream",
     "text": [
      "0.3897798394840167\n"
     ]
    }
   ],
   "source": [
    "from sklearn.metrics import mean_absolute_percentage_error\n",
    "mape = mean_absolute_percentage_error(Y_test,res)\n",
    "print(mape)"
   ]
  },
  {
   "cell_type": "code",
   "execution_count": 15,
   "metadata": {},
   "outputs": [
    {
     "name": "stdout",
     "output_type": "stream",
     "text": [
      "7.431193062418986\n"
     ]
    }
   ],
   "source": [
    "from sklearn.metrics import root_mean_squared_error\n",
    "rmse = root_mean_squared_error(Y_test,res)\n",
    "print(rmse)"
   ]
  }
 ],
 "metadata": {
  "kernelspec": {
   "display_name": "Python 3",
   "language": "python",
   "name": "python3"
  },
  "language_info": {
   "codemirror_mode": {
    "name": "ipython",
    "version": 3
   },
   "file_extension": ".py",
   "mimetype": "text/x-python",
   "name": "python",
   "nbconvert_exporter": "python",
   "pygments_lexer": "ipython3",
   "version": "3.9.13"
  }
 },
 "nbformat": 4,
 "nbformat_minor": 2
}
